{
 "cells": [
  {
   "cell_type": "markdown",
   "metadata": {},
   "source": [
    "# Capstone project"
   ]
  },
  {
   "cell_type": "markdown",
   "metadata": {},
   "source": [
    "## 1) A description of the problem and a discussion of the background."
   ]
  },
  {
   "cell_type": "markdown",
   "metadata": {},
   "source": [
    "### Introduction\n",
    "When potential clients are going through real estate listings the only reference easily available is the average price in a given city or a district which is not always helpful because there are many factors to be considered when buying an appartment.\n",
    "I'm going to leverage infromation from Foursqare about a number of different types of venues nearby as well as information from local real estate listings website to predict prices of apartments and to identify which ones have most attractive price compared to the predicted price.\n",
    "### Target audience\n",
    "The final result may be of value for people who are looking to buy an apartment as well as people who are selling an appartment and would like to know what price to ask for."
   ]
  },
  {
   "cell_type": "markdown",
   "metadata": {},
   "source": [
    "## 2) A description of the data and how it will be used to solve the problem."
   ]
  },
  {
   "cell_type": "markdown",
   "metadata": {},
   "source": [
    "### There are two sources of the data which will be combined to solve the problem\n",
    "#### City of choice\n",
    "I'll analyze the city of Poznan in Poland, because this is where i live and therefore may one day need results of this project.\n",
    "https://en.wikipedia.org/wiki/Pozna%C5%84\n",
    "#### Foursquare data\n",
    "I will identify what kind of venues are within a distance of each apartment. Next I'll count how many venues there are by category. I'll use this information in regression models to predict apartment prices.\n",
    "\n",
    "Top level categories of Foursqare venue (based on https://developer.foursquare.com/docs/build-with-foursquare/categories/):\n",
    "- Arts & Entertainment\n",
    "- College & University\n",
    "- Event\n",
    "- Food\n",
    "- Nightlife Spot\n",
    "- Outdoors & Recreation\n",
    "- Professional & Other Places\n",
    "- Residence\n",
    "- Shop & Service\n",
    "- Travel & Transport\n",
    "\n",
    "#### Data with real estate listings\n",
    "I'll download all real estate listings in city of Poznan and use them in regression models to predict apartment prices. Types of data that I'm planning to use are \n",
    "- No of rooms\n",
    "- Building type \n",
    "- Construction status \n",
    "- Price per m     \n",
    "- Rent       \n",
    "- Built year   \n",
    "- Size\n",
    "- Extras like lifts, garage etc.\n",
    "\n",
    "#### Location data\n",
    "To be able to explore venues around apartments, I'll also need location data. This information will be retrieved using OpenCage Geocoding API to get the longitude and latitude https://opencagedata.com/api#forward-opt\n",
    "#### Only secondary market\n",
    "There are signinficant diferences between secondary and primary real estate market, therefore this project will focus only on secondary real estate market."
   ]
  },
  {
   "cell_type": "markdown",
   "metadata": {},
   "source": [
    "# Capstone project - week 5"
   ]
  },
  {
   "cell_type": "markdown",
   "metadata": {},
   "source": [
    "#### Import necessary libraries"
   ]
  },
  {
   "cell_type": "code",
   "execution_count": 130,
   "metadata": {},
   "outputs": [],
   "source": [
    "from bs4 import BeautifulSoup\n",
    "import pandas as pd\n",
    "import requests\n",
    "import json\n",
    "import re\n",
    "import geopy\n",
    "import seaborn as sns\n",
    "import numpy as np\n",
    "import urllib.request\n",
    "import urllib.parse\n",
    "import folium # map rendering library\n",
    "from folium import plugins\n",
    "from pandas.io.json import json_normalize # tranform JSON file into a pandas dataframe\n",
    "pd.set_option('display.max_columns', None)\n",
    "pd.set_option('display.max_rows', None)"
   ]
  },
  {
   "cell_type": "markdown",
   "metadata": {},
   "source": [
    " ## Page scraping the website with real estate listings"
   ]
  },
  {
   "cell_type": "markdown",
   "metadata": {},
   "source": [
    "Website Has no API, so we need to write a parser to get the necessary information.\n",
    "https://www.otodom.pl/"
   ]
  },
  {
   "cell_type": "code",
   "execution_count": 2,
   "metadata": {},
   "outputs": [],
   "source": [
    "#Parse given url and construct BeautifulSoup object\n",
    "def getSoupURL(url):\n",
    "    r = None\n",
    "    while (r is None):\n",
    "        try:\n",
    "            r  = requests.get(url)\n",
    "        except:\n",
    "            print(\"Failed to connect to {}\".format(url))\n",
    "    data = r.text\n",
    "    return BeautifulSoup(data)"
   ]
  },
  {
   "cell_type": "markdown",
   "metadata": {},
   "source": [
    "While using the website through browser, a user has to first enter a search query. \\\n",
    "To simplify things I've used filter on the website and copied search string below. \\\n",
    "We are loooking at apartments which are:\n",
    "- in the **city of Poznan in Poland**\n",
    "- from **secondary market** "
   ]
  },
  {
   "cell_type": "code",
   "execution_count": 3,
   "metadata": {},
   "outputs": [],
   "source": [
    "search_string = \"https://www.otodom.pl/sprzedaz/mieszkanie/poznan/?search%5Bfilter_enum_market%5D=secondary&search%5Bregion_id%5D=15&search%5Bsubregion_id%5D=462&search%5Bcity_id%5D=1\""
   ]
  },
  {
   "cell_type": "code",
   "execution_count": 4,
   "metadata": {},
   "outputs": [],
   "source": [
    "soup = getSoupURL(search_string)"
   ]
  },
  {
   "cell_type": "markdown",
   "metadata": {},
   "source": [
    "#### Next, we need to go read a separate URL with details for each of them."
   ]
  },
  {
   "cell_type": "code",
   "execution_count": 5,
   "metadata": {},
   "outputs": [],
   "source": [
    "#But first we need to parse a number of result pages - because of pagination\n",
    "soup_string = str(soup)\n",
    "page_count_location = soup_string.find(\"page_count\")\n",
    "page_count_location += +len(\"page_count\") + 3\n",
    "page_count_string = soup_string[page_count_location:page_count_location + 4]\n",
    "page_count = int(re.sub('\\W+','', page_count_string ))"
   ]
  },
  {
   "cell_type": "markdown",
   "metadata": {},
   "source": [
    "We want a full list of URLs leading to details about apartments for sale."
   ]
  },
  {
   "cell_type": "code",
   "execution_count": 6,
   "metadata": {},
   "outputs": [],
   "source": [
    "#Parse URLs from a single page\n",
    "def getURLsfromSite(soup):\n",
    "    tables = soup.find_all([\"a\"])\n",
    "    res = []\n",
    "    for a in tables:\n",
    "        text = str(a)\n",
    "        #offer URLs start with https://www.otodom.pl/oferta\n",
    "        if text.find(\"https://www.otodom.pl/oferta/\") > -1:\n",
    "            #and contain #\n",
    "            if \"#\" in str(a.get('href')):\n",
    "                res.append(a.get('href'))\n",
    "    res = list( dict.fromkeys(res) )\n",
    "    return res"
   ]
  },
  {
   "cell_type": "markdown",
   "metadata": {},
   "source": [
    "iterate through each page to get a combined list of URLs"
   ]
  },
  {
   "cell_type": "code",
   "execution_count": 7,
   "metadata": {},
   "outputs": [],
   "source": [
    "postings_urls = []\n",
    "for i in range(1, page_count+1):\n",
    "    new_soup = getSoupURL(search_string + \"&page=\" + str(i))\n",
    "    postings_urls.extend(getURLsfromSite(new_soup))"
   ]
  },
  {
   "cell_type": "markdown",
   "metadata": {},
   "source": [
    "remove potential duplicates"
   ]
  },
  {
   "cell_type": "code",
   "execution_count": 8,
   "metadata": {},
   "outputs": [
    {
     "name": "stdout",
     "output_type": "stream",
     "text": [
      "We found 2411 urls.\n"
     ]
    }
   ],
   "source": [
    "postings_urls = list(dict.fromkeys(postings_urls))\n",
    "print(\"We found {0} urls.\".format(len(postings_urls)))"
   ]
  },
  {
   "cell_type": "markdown",
   "metadata": {},
   "source": [
    "###  Next we want to visit each posting and parse the relevant information."
   ]
  },
  {
   "cell_type": "markdown",
   "metadata": {},
   "source": [
    "Each website contains information about specific appartmen. This is how parsed JSON data looks like when you check Source Code of the website. We are interested with apartments characteristics like : **Id, Number of Rooms, Price_per_m, Rent, Build_year, Size of the appartmen, Building_floors_num, Floor_no, Extras_types, district, address**\n",
    "<code>\n",
    "{'initialProps': {'meta': {'target': {\n",
    "    'Build_year': '2014',\n",
    "    'Building_floors_num': '4',\n",
    "    'Building_material': ['silikat'],\n",
    "    'Building_ownership': ['full_ownership'],\n",
    "    'Building_type': ['block'],\n",
    "    'Construction_status': ['ready_to_use'],\n",
    "    'Country': 'Polska',\n",
    "    'Extras_types': ['balcony',  'garage', 'lift', 'separate_kitchen', 'usable_room'],\n",
    "    'Floor_no': ['floor_1'],\n",
    "    'Id': '59963036',\n",
    "    'MarketType': 'secondary',\n",
    "    'Media_types': ['cable-television', 'internet', 'phone'],\n",
    "    'Price': 420000,\n",
    "    'Price_per_m': 7616,\n",
    "    'Rent': 347,\n",
    "    'Rooms_num': ['3']}</code>"
   ]
  },
  {
   "cell_type": "markdown",
   "metadata": {},
   "source": [
    "A support method for parsing json only when given key exists"
   ]
  },
  {
   "cell_type": "code",
   "execution_count": 9,
   "metadata": {},
   "outputs": [],
   "source": [
    "def parse_if_exist(json, key):\n",
    "    if key in json[\"initialProps\"][\"meta\"][\"target\"]:\n",
    "        return json[\"initialProps\"][\"meta\"][\"target\"][key]\n",
    "    else:\n",
    "        return None"
   ]
  },
  {
   "cell_type": "markdown",
   "metadata": {},
   "source": [
    "A support method to get district name from location data"
   ]
  },
  {
   "cell_type": "code",
   "execution_count": 10,
   "metadata": {},
   "outputs": [],
   "source": [
    "def parse_district_name(location):\n",
    "    for level in location[\"geoLevel\"]:\n",
    "        if \"district\" in level[\"type\"]:\n",
    "            return level[\"label\"]"
   ]
  },
  {
   "cell_type": "markdown",
   "metadata": {},
   "source": [
    "### Download all listings"
   ]
  },
  {
   "cell_type": "code",
   "execution_count": 11,
   "metadata": {},
   "outputs": [],
   "source": [
    "app_id = []\n",
    "rooms = []\n",
    "price_per_m = []\n",
    "rent = []\n",
    "built_year = []\n",
    "size = [] \n",
    "floors = []\n",
    "floor_no = []\n",
    "extras = []\n",
    "district = []\n",
    "address = []\n",
    "building_type = []\n",
    "construction_status = [] \n",
    "urls = []\n",
    "descriptions = []"
   ]
  },
  {
   "cell_type": "code",
   "execution_count": 14,
   "metadata": {},
   "outputs": [
    {
     "name": "stdout",
     "output_type": "stream",
     "text": [
      "\n"
     ]
    }
   ],
   "source": [
    "for url in postings_urls:\n",
    "    soup = getSoupURL(url)\n",
    "    scripts = soup.find_all(['script'])\n",
    "    for script in scripts:\n",
    "        if script.get(\"id\") == \"server-app-state\":\n",
    "            script_text = str(script.text)\n",
    "            details = json.loads(script_text)\n",
    "            #print(url)\n",
    "            #print(\"Found details like \" + str(script_text)[0:2000])\n",
    "            app_id.append(parse_if_exist(details, \"Id\"))\n",
    "            rooms.append(parse_if_exist(details, \"Rooms_num\"))\n",
    "            building_type.append(parse_if_exist(details, \"Building_type\"))\n",
    "            construction_status.append(parse_if_exist(details, \"Construction_status\"))\n",
    "            price_per_m.append(parse_if_exist(details, \"Price_per_m\"))\n",
    "            rent.append(parse_if_exist(details, \"Rent\"))\n",
    "            built_year.append(parse_if_exist(details, \"Build_year\"))\n",
    "            size.append(parse_if_exist(details, \"Area\"))\n",
    "            floors.append(parse_if_exist(details, \"Building_floors_num\"))\n",
    "            floor_no.append(parse_if_exist(details, \"Floor_no\"))\n",
    "            extras.append(parse_if_exist(details, \"Extras_types\"))\n",
    "            location_details = details[\"initialProps\"][\"data\"][\"advert\"][\"location\"]\n",
    "            district.append(parse_district_name(location_details))\n",
    "            address.append(location_details[\"address\"])\n",
    "            descriptions.append(details[\"initialProps\"][\"data\"][\"advert\"][\"description\"])\n",
    "            urls.append(url)"
   ]
  },
  {
   "cell_type": "markdown",
   "metadata": {},
   "source": [
    "### Let's buid a data frame from parsed data and have a frist look at what was retrieved."
   ]
  },
  {
   "cell_type": "code",
   "execution_count": 13,
   "metadata": {},
   "outputs": [
    {
     "data": {
      "text/html": [
       "<div>\n",
       "<style scoped>\n",
       "    .dataframe tbody tr th:only-of-type {\n",
       "        vertical-align: middle;\n",
       "    }\n",
       "\n",
       "    .dataframe tbody tr th {\n",
       "        vertical-align: top;\n",
       "    }\n",
       "\n",
       "    .dataframe thead th {\n",
       "        text-align: right;\n",
       "    }\n",
       "</style>\n",
       "<table border=\"1\" class=\"dataframe\">\n",
       "  <thead>\n",
       "    <tr style=\"text-align: right;\">\n",
       "      <th></th>\n",
       "      <th>id</th>\n",
       "      <th>rooms</th>\n",
       "      <th>building_type</th>\n",
       "      <th>construction_status</th>\n",
       "      <th>price per m</th>\n",
       "      <th>rent</th>\n",
       "      <th>built year</th>\n",
       "      <th>size</th>\n",
       "      <th>floors</th>\n",
       "      <th>floor no</th>\n",
       "      <th>extras</th>\n",
       "      <th>district</th>\n",
       "      <th>address</th>\n",
       "      <th>url</th>\n",
       "      <th>description</th>\n",
       "    </tr>\n",
       "  </thead>\n",
       "  <tbody>\n",
       "    <tr>\n",
       "      <td>0</td>\n",
       "      <td>60449395</td>\n",
       "      <td>[1]</td>\n",
       "      <td>None</td>\n",
       "      <td>None</td>\n",
       "      <td>12344</td>\n",
       "      <td>NaN</td>\n",
       "      <td>None</td>\n",
       "      <td>32</td>\n",
       "      <td>None</td>\n",
       "      <td>None</td>\n",
       "      <td>[balcony, garage, lift]</td>\n",
       "      <td>Rataje</td>\n",
       "      <td>Poznań, Nowe Miasto, Rataje, ul. Katowicka 25</td>\n",
       "      <td>https://www.otodom.pl/oferta/luksusowa-kawaler...</td>\n",
       "      <td>&lt;p&gt;Sprzedam bezpośrednio ekskluzywną, w pełni ...</td>\n",
       "    </tr>\n",
       "    <tr>\n",
       "      <td>1</td>\n",
       "      <td>60575314</td>\n",
       "      <td>[4]</td>\n",
       "      <td>[block]</td>\n",
       "      <td>[ready_to_use]</td>\n",
       "      <td>14000</td>\n",
       "      <td>900.0</td>\n",
       "      <td>2017</td>\n",
       "      <td>90</td>\n",
       "      <td>5</td>\n",
       "      <td>[floor_5]</td>\n",
       "      <td>[balcony, basement, garage, lift, usable_room]</td>\n",
       "      <td>Jeżyce</td>\n",
       "      <td>Poznań, Jeżyce, ul. Kościelna</td>\n",
       "      <td>https://www.otodom.pl/oferta/jedyny-taki-apart...</td>\n",
       "      <td>&lt;p&gt;&lt;strong&gt;WYJĄTKOWY APARTAMENT –&lt;/strong&gt; NOW...</td>\n",
       "    </tr>\n",
       "  </tbody>\n",
       "</table>\n",
       "</div>"
      ],
      "text/plain": [
       "         id rooms building_type construction_status  price per m   rent  \\\n",
       "0  60449395   [1]          None                None        12344    NaN   \n",
       "1  60575314   [4]       [block]      [ready_to_use]        14000  900.0   \n",
       "\n",
       "  built year size floors   floor no  \\\n",
       "0       None   32   None       None   \n",
       "1       2017   90      5  [floor_5]   \n",
       "\n",
       "                                           extras district  \\\n",
       "0                         [balcony, garage, lift]   Rataje   \n",
       "1  [balcony, basement, garage, lift, usable_room]   Jeżyce   \n",
       "\n",
       "                                         address  \\\n",
       "0  Poznań, Nowe Miasto, Rataje, ul. Katowicka 25   \n",
       "1                  Poznań, Jeżyce, ul. Kościelna   \n",
       "\n",
       "                                                 url  \\\n",
       "0  https://www.otodom.pl/oferta/luksusowa-kawaler...   \n",
       "1  https://www.otodom.pl/oferta/jedyny-taki-apart...   \n",
       "\n",
       "                                         description  \n",
       "0  <p>Sprzedam bezpośrednio ekskluzywną, w pełni ...  \n",
       "1  <p><strong>WYJĄTKOWY APARTAMENT –</strong> NOW...  "
      ]
     },
     "execution_count": 13,
     "metadata": {},
     "output_type": "execute_result"
    }
   ],
   "source": [
    "df = pd.DataFrame({\"id\": app_id, \"rooms\": rooms, \"building_type\": building_type,\n",
    "                   \"construction_status\": construction_status, \n",
    "                   \"price per m\": price_per_m, \"rent\": rent, \"built year\": built_year, \"size\": size,\n",
    "                   \"floors\": floors, \"floor no\": floor_no,\n",
    "                  \"extras\": extras, \"district\": district, \"address\": address, \"url\": urls, \"description\": descriptions})\n",
    "df.head(2)"
   ]
  },
  {
   "cell_type": "markdown",
   "metadata": {},
   "source": [
    "### Cleaning the data"
   ]
  },
  {
   "cell_type": "markdown",
   "metadata": {},
   "source": [
    "We can easily correct values of:\n",
    "- correct values in rooms\n",
    "- correct values in building_type\n",
    "- correct values in construction_status\n",
    "- convert floor no to numerical values"
   ]
  },
  {
   "cell_type": "code",
   "execution_count": 15,
   "metadata": {},
   "outputs": [],
   "source": [
    "df[\"rooms\"] = df[\"rooms\"].apply(lambda x: x[0])"
   ]
  },
  {
   "cell_type": "code",
   "execution_count": 16,
   "metadata": {},
   "outputs": [],
   "source": [
    "df[\"building_type\"] = df[\"building_type\"].apply(lambda x: x[0] if x is not None else x)\n",
    "df[\"construction_status\"] = df[\"construction_status\"].apply(lambda x: x[0] if x is not None else x)"
   ]
  },
  {
   "cell_type": "code",
   "execution_count": 17,
   "metadata": {},
   "outputs": [],
   "source": [
    "def floor_no_to_int(x):\n",
    "    if x is not None:\n",
    "        if \"ground_floor\" == x[0]:\n",
    "            return 0\n",
    "        elif x[0] in [\"cellar\", 'garret']: \n",
    "            return -1\n",
    "        else:\n",
    "            return int(x[0][-1])\n",
    "    else:\n",
    "        return None"
   ]
  },
  {
   "cell_type": "code",
   "execution_count": 18,
   "metadata": {},
   "outputs": [],
   "source": [
    "df[\"floor no\"] = df[\"floor no\"].apply(floor_no_to_int)"
   ]
  },
  {
   "cell_type": "markdown",
   "metadata": {},
   "source": [
    "Just in case, create a backup data frame, because it takes some time to retrieve all listings."
   ]
  },
  {
   "cell_type": "code",
   "execution_count": 19,
   "metadata": {},
   "outputs": [],
   "source": [
    "df_backup_with_listings = df.copy()"
   ]
  },
  {
   "cell_type": "markdown",
   "metadata": {},
   "source": [
    "Postings with missing districts are very poorly described and have little details about location, so lets remove them."
   ]
  },
  {
   "cell_type": "code",
   "execution_count": 21,
   "metadata": {},
   "outputs": [],
   "source": [
    "df = df[df[\"district\"].notnull()]\n",
    "df.reset_index(drop=True, inplace=True)"
   ]
  },
  {
   "cell_type": "code",
   "execution_count": 24,
   "metadata": {},
   "outputs": [
    {
     "data": {
      "text/plain": [
       "(2348, 15)"
      ]
     },
     "execution_count": 24,
     "metadata": {},
     "output_type": "execute_result"
    }
   ],
   "source": [
    "df.shape"
   ]
  },
  {
   "cell_type": "markdown",
   "metadata": {},
   "source": [
    "Lets check if an how many missing values do we have to deal with. Missing values are not there because they were not provided by sellers."
   ]
  },
  {
   "cell_type": "code",
   "execution_count": 25,
   "metadata": {},
   "outputs": [
    {
     "data": {
      "text/plain": [
       "id                        0\n",
       "rooms                     0\n",
       "building_type           395\n",
       "construction_status     702\n",
       "price per m               0\n",
       "rent                   1062\n",
       "built year              734\n",
       "size                      0\n",
       "floors                  121\n",
       "floor no                 33\n",
       "extras                  409\n",
       "district                  0\n",
       "address                   0\n",
       "url                       0\n",
       "description               0\n",
       "dtype: int64"
      ]
     },
     "execution_count": 25,
     "metadata": {},
     "output_type": "execute_result"
    }
   ],
   "source": [
    "df.isnull().sum()"
   ]
  },
  {
   "cell_type": "markdown",
   "metadata": {},
   "source": [
    "### Half of values for rent are missing. \n",
    "But we can see that there is a correlation between size of the appartment and the rent value. Let's built a linear regression model and replace missing rent values with predicted values."
   ]
  },
  {
   "cell_type": "code",
   "execution_count": 40,
   "metadata": {},
   "outputs": [
    {
     "data": {
      "image/png": "[encoded data removed]",
      "text/plain": [
       "<Figure size 432x288 with 1 Axes>"
      ]
     },
     "metadata": {
      "needs_background": "light"
     },
     "output_type": "display_data"
    }
   ],
   "source": [
    "df_rent = df[df[\"rent\"].notnull()].copy()\n",
    "df_rent[\"rent\"] = df_rent[\"rent\"].astype(float)\n",
    "df_rent[\"size\"] = df_rent[\"size\"].astype(float)\n",
    "ax2 = sns.regplot(x=\"size\", y='rent', data=df_rent)"
   ]
  },
  {
   "cell_type": "code",
   "execution_count": 41,
   "metadata": {},
   "outputs": [
    {
     "name": "stdout",
     "output_type": "stream",
     "text": [
      "R2 score for linear regression is 0.28686525519481276\n"
     ]
    }
   ],
   "source": [
    "X = df_rent[[\"size\"]]\n",
    "y = df_rent[\"rent\"].values\n",
    "from sklearn.linear_model import LinearRegression\n",
    "reg = LinearRegression().fit(X, y)\n",
    "R2_score = reg.score(X, y)\n",
    "print(\"R2 score for linear regression is {}\".format(R2_score))"
   ]
  },
  {
   "cell_type": "code",
   "execution_count": 42,
   "metadata": {},
   "outputs": [],
   "source": [
    "df[\"size\"] = df[\"size\"].astype(float)\n",
    "df[\"rent_hat\"] = reg.predict(df[[\"size\"]])"
   ]
  },
  {
   "cell_type": "code",
   "execution_count": 60,
   "metadata": {},
   "outputs": [],
   "source": [
    "new_rent = []\n",
    "for old_rent, rent_hat in zip(df[\"rent\"], df[\"rent_hat\"]):\n",
    "    if pd.notna(old_rent):\n",
    "        new_rent.append(old_rent)\n",
    "    else:\n",
    "        new_rent.append(rent_hat)\n",
    "df[\"rent\"] = new_rent"
   ]
  },
  {
   "cell_type": "markdown",
   "metadata": {},
   "source": [
    "lets see what kind of values do we have in construction status"
   ]
  },
  {
   "cell_type": "code",
   "execution_count": 428,
   "metadata": {},
   "outputs": [
    {
     "data": {
      "text/plain": [
       "array([None, 'ready_to_use', 'to_renovation', 'to_completion'],\n",
       "      dtype=object)"
      ]
     },
     "execution_count": 428,
     "metadata": {},
     "output_type": "execute_result"
    }
   ],
   "source": [
    "df[\"construction_status\"].unique()"
   ]
  },
  {
   "cell_type": "markdown",
   "metadata": {},
   "source": [
    "Lets replace this column with boolean columns"
   ]
  },
  {
   "cell_type": "code",
   "execution_count": 61,
   "metadata": {},
   "outputs": [],
   "source": [
    "df[\"for_renovation\"] = df[\"construction_status\"].apply(lambda x: 1 if x in ['to_renovation'] else 0)\n",
    "df[\"for_completion\"] = df[\"construction_status\"].apply(lambda x: 1 if x in ['to_completion'] else 0)\n",
    "df.drop([\"construction_status\"], axis=1, inplace=True)"
   ]
  },
  {
   "cell_type": "markdown",
   "metadata": {},
   "source": [
    "Lets take a closer look at built year and building type \\\n",
    "as there is about 25% of data missing lets replace them with mean."
   ]
  },
  {
   "cell_type": "code",
   "execution_count": 68,
   "metadata": {},
   "outputs": [],
   "source": [
    "df[\"built year\"] = df[\"built year\"].apply(lambda x: int(x) if x is not None else 0)\n",
    "df[\"built year\"] = df[\"built year\"].astype(int)\n",
    "mean_year = df[df[\"built year\"] > 1850][\"built year\"].mean()\n",
    "df[\"built year\"] = df[\"built year\"].apply(lambda x: x if x > 1850 else mean_year)"
   ]
  },
  {
   "cell_type": "markdown",
   "metadata": {},
   "source": [
    "Next lets check building type"
   ]
  },
  {
   "cell_type": "code",
   "execution_count": 70,
   "metadata": {},
   "outputs": [
    {
     "data": {
      "text/html": [
       "<div>\n",
       "<style scoped>\n",
       "    .dataframe tbody tr th:only-of-type {\n",
       "        vertical-align: middle;\n",
       "    }\n",
       "\n",
       "    .dataframe tbody tr th {\n",
       "        vertical-align: top;\n",
       "    }\n",
       "\n",
       "    .dataframe thead tr th {\n",
       "        text-align: left;\n",
       "    }\n",
       "\n",
       "    .dataframe thead tr:last-of-type th {\n",
       "        text-align: right;\n",
       "    }\n",
       "</style>\n",
       "<table border=\"1\" class=\"dataframe\">\n",
       "  <thead>\n",
       "    <tr>\n",
       "      <th></th>\n",
       "      <th colspan=\"4\" halign=\"left\">built year</th>\n",
       "    </tr>\n",
       "    <tr>\n",
       "      <th></th>\n",
       "      <th>mean</th>\n",
       "      <th>count</th>\n",
       "      <th>min</th>\n",
       "      <th>max</th>\n",
       "    </tr>\n",
       "    <tr>\n",
       "      <th>building_type</th>\n",
       "      <th></th>\n",
       "      <th></th>\n",
       "      <th></th>\n",
       "      <th></th>\n",
       "    </tr>\n",
       "  </thead>\n",
       "  <tbody>\n",
       "    <tr>\n",
       "      <td>apartment</td>\n",
       "      <td>2010.824003</td>\n",
       "      <td>306</td>\n",
       "      <td>1955.0</td>\n",
       "      <td>2022.0</td>\n",
       "    </tr>\n",
       "    <tr>\n",
       "      <td>block</td>\n",
       "      <td>1987.472845</td>\n",
       "      <td>1060</td>\n",
       "      <td>1914.0</td>\n",
       "      <td>2022.0</td>\n",
       "    </tr>\n",
       "    <tr>\n",
       "      <td>house</td>\n",
       "      <td>1969.039633</td>\n",
       "      <td>29</td>\n",
       "      <td>1912.0</td>\n",
       "      <td>2020.0</td>\n",
       "    </tr>\n",
       "    <tr>\n",
       "      <td>infill</td>\n",
       "      <td>2003.250000</td>\n",
       "      <td>4</td>\n",
       "      <td>1999.0</td>\n",
       "      <td>2010.0</td>\n",
       "    </tr>\n",
       "    <tr>\n",
       "      <td>loft</td>\n",
       "      <td>2018.000000</td>\n",
       "      <td>1</td>\n",
       "      <td>2018.0</td>\n",
       "      <td>2018.0</td>\n",
       "    </tr>\n",
       "    <tr>\n",
       "      <td>ribbon</td>\n",
       "      <td>1988.295356</td>\n",
       "      <td>11</td>\n",
       "      <td>1945.0</td>\n",
       "      <td>2012.0</td>\n",
       "    </tr>\n",
       "    <tr>\n",
       "      <td>tenement</td>\n",
       "      <td>1936.804080</td>\n",
       "      <td>542</td>\n",
       "      <td>1880.0</td>\n",
       "      <td>2020.0</td>\n",
       "    </tr>\n",
       "  </tbody>\n",
       "</table>\n",
       "</div>"
      ],
      "text/plain": [
       "                built year                      \n",
       "                      mean count     min     max\n",
       "building_type                                   \n",
       "apartment      2010.824003   306  1955.0  2022.0\n",
       "block          1987.472845  1060  1914.0  2022.0\n",
       "house          1969.039633    29  1912.0  2020.0\n",
       "infill         2003.250000     4  1999.0  2010.0\n",
       "loft           2018.000000     1  2018.0  2018.0\n",
       "ribbon         1988.295356    11  1945.0  2012.0\n",
       "tenement       1936.804080   542  1880.0  2020.0"
      ]
     },
     "execution_count": 70,
     "metadata": {},
     "output_type": "execute_result"
    }
   ],
   "source": [
    "df[df[\"building_type\"].notna()][[\"building_type\", \"built year\"]].groupby(\"building_type\").agg(['mean','count', 'min', 'max'])"
   ]
  },
  {
   "cell_type": "markdown",
   "metadata": {},
   "source": [
    "Lets replace infill, loft with most numerous type block as there are only few of these values."
   ]
  },
  {
   "cell_type": "code",
   "execution_count": 71,
   "metadata": {},
   "outputs": [],
   "source": [
    "df[\"building_type\"] = df[\"building_type\"].apply(lambda x: None if x in ['infill', 'loft'] else x)"
   ]
  },
  {
   "cell_type": "markdown",
   "metadata": {},
   "source": [
    "Check the boxplot for each building type separately to see if there visible differences in prices depending on building type"
   ]
  },
  {
   "cell_type": "code",
   "execution_count": 73,
   "metadata": {},
   "outputs": [
    {
     "data": {
      "image/png": "[encoded data removed]",
      "text/plain": [
       "<Figure size 432x288 with 1 Axes>"
      ]
     },
     "metadata": {
      "needs_background": "light"
     },
     "output_type": "display_data"
    }
   ],
   "source": [
    "ax = sns.boxplot(x=\"building_type\", y='price per m', data=df)"
   ]
  },
  {
   "cell_type": "code",
   "execution_count": 74,
   "metadata": {},
   "outputs": [],
   "source": [
    "#remove appartments with a price per meter lower than 3000 and greater than 17000\n",
    "df = df[df[\"price per m\"] > 3000]\n",
    "df = df[df[\"price per m\"] < 17000]"
   ]
  },
  {
   "cell_type": "markdown",
   "metadata": {},
   "source": [
    "### Convert Categorical features to numerical values"
   ]
  },
  {
   "cell_type": "code",
   "execution_count": 75,
   "metadata": {},
   "outputs": [],
   "source": [
    "df['building_type'].replace(to_replace=['house', 'ribbon', 'apartment', 'tenement', 'block'], value=[0,1,2,3,4],inplace=True)"
   ]
  },
  {
   "cell_type": "markdown",
   "metadata": {},
   "source": [
    "### And replace missing values with most numerous type 'block'"
   ]
  },
  {
   "cell_type": "code",
   "execution_count": 80,
   "metadata": {},
   "outputs": [],
   "source": [
    "df['building_type'].fillna(value=4, inplace=True)"
   ]
  },
  {
   "cell_type": "markdown",
   "metadata": {},
   "source": [
    "### Lets clean missing information about floors\n",
    "by replacing missing floors and floor no values with average in the city and conver these columns to float."
   ]
  },
  {
   "cell_type": "code",
   "execution_count": 76,
   "metadata": {},
   "outputs": [],
   "source": [
    "floor_no_mean = df[\"floor no\"].notnull().mean()\n",
    "df[\"floor no\"] = df[\"floor no\"].apply(lambda x: x if pd.notna(x) else floor_no_mean)\n",
    "floors_mean = df[\"floors\"].notnull().mean()\n",
    "df[\"floors\"] = df[\"floors\"].apply(lambda x: x if x is not None else floors_mean)"
   ]
  },
  {
   "cell_type": "code",
   "execution_count": 78,
   "metadata": {},
   "outputs": [
    {
     "data": {
      "text/plain": [
       "id                  0\n",
       "rooms               0\n",
       "building_type     399\n",
       "price per m         0\n",
       "rent                0\n",
       "built year          0\n",
       "size                0\n",
       "floors              0\n",
       "floor no            0\n",
       "extras            406\n",
       "district            0\n",
       "address             0\n",
       "url                 0\n",
       "description         0\n",
       "rent_hat            0\n",
       "for_renovation      0\n",
       "for_completion      0\n",
       "dtype: int64"
      ]
     },
     "execution_count": 78,
     "metadata": {},
     "output_type": "execute_result"
    }
   ],
   "source": [
    "df.isnull().sum()"
   ]
  },
  {
   "cell_type": "markdown",
   "metadata": {},
   "source": [
    "Next, we want to conver extras column to separate boolean columns"
   ]
  },
  {
   "cell_type": "code",
   "execution_count": 81,
   "metadata": {},
   "outputs": [],
   "source": [
    "ext_dict = {\"has_balcony\": [], \"has_basement\": [],\n",
    "                          \"has_garage\": [], \"has_garden\": [],\n",
    "                          \"has_terrace\": [], \"has_lift\": [],\n",
    "                          \"is_two_storey\": [] }"
   ]
  },
  {
   "cell_type": "code",
   "execution_count": 82,
   "metadata": {},
   "outputs": [],
   "source": [
    "for ext in df[\"extras\"]:\n",
    "    has_balcony = 0\n",
    "    has_basement = 0\n",
    "    has_garage = 0\n",
    "    has_garden = 0\n",
    "    has_terrace = 0\n",
    "    has_lift = 0\n",
    "    is_two_storey = 0\n",
    "    if ext is not None:\n",
    "        for e in ext:\n",
    "            if e == \"balcony\":\n",
    "                has_balcony = 1\n",
    "            elif e == \"basement\":\n",
    "                has_basement = 1\n",
    "            elif e == \"garage\":\n",
    "                has_garage = 1\n",
    "            elif e == \"garden\":\n",
    "                has_garden = 1\n",
    "            elif e == \"terrace\":\n",
    "                has_terrace = 1\n",
    "            elif e == \"lift\":\n",
    "                has_lift =1\n",
    "            elif e == \"two_storey\":\n",
    "                is_two_storey = 1\n",
    "    ext_dict[\"has_balcony\"].append(has_balcony)\n",
    "    ext_dict[\"has_basement\"].append(has_basement)\n",
    "    ext_dict[\"has_garage\"].append(has_garage)\n",
    "    ext_dict[\"has_garden\"].append(has_garden)\n",
    "    ext_dict[\"has_terrace\"].append(has_terrace)\n",
    "    ext_dict[\"has_lift\"].append(has_lift)\n",
    "    ext_dict[\"is_two_storey\"].append(is_two_storey)"
   ]
  },
  {
   "cell_type": "code",
   "execution_count": 83,
   "metadata": {},
   "outputs": [],
   "source": [
    "df_extras = pd.DataFrame(ext_dict)"
   ]
  },
  {
   "cell_type": "code",
   "execution_count": 85,
   "metadata": {},
   "outputs": [],
   "source": [
    "df = pd.concat([df, df_extras], axis=1)"
   ]
  },
  {
   "cell_type": "code",
   "execution_count": 86,
   "metadata": {},
   "outputs": [],
   "source": [
    "df.drop([\"extras\"], axis=1, inplace=True)"
   ]
  },
  {
   "cell_type": "markdown",
   "metadata": {},
   "source": [
    "Next step is to retrieve lovation of each apartment based on address."
   ]
  },
  {
   "cell_type": "code",
   "execution_count": 87,
   "metadata": {},
   "outputs": [
    {
     "data": {
      "text/html": [
       "<div>\n",
       "<style scoped>\n",
       "    .dataframe tbody tr th:only-of-type {\n",
       "        vertical-align: middle;\n",
       "    }\n",
       "\n",
       "    .dataframe tbody tr th {\n",
       "        vertical-align: top;\n",
       "    }\n",
       "\n",
       "    .dataframe thead th {\n",
       "        text-align: right;\n",
       "    }\n",
       "</style>\n",
       "<table border=\"1\" class=\"dataframe\">\n",
       "  <thead>\n",
       "    <tr style=\"text-align: right;\">\n",
       "      <th></th>\n",
       "      <th>id</th>\n",
       "      <th>rooms</th>\n",
       "      <th>building_type</th>\n",
       "      <th>price per m</th>\n",
       "      <th>rent</th>\n",
       "      <th>built year</th>\n",
       "      <th>size</th>\n",
       "      <th>floors</th>\n",
       "      <th>floor no</th>\n",
       "      <th>district</th>\n",
       "      <th>address</th>\n",
       "      <th>url</th>\n",
       "      <th>description</th>\n",
       "      <th>rent_hat</th>\n",
       "      <th>for_renovation</th>\n",
       "      <th>for_completion</th>\n",
       "      <th>has_balcony</th>\n",
       "      <th>has_basement</th>\n",
       "      <th>has_garage</th>\n",
       "      <th>has_garden</th>\n",
       "      <th>has_terrace</th>\n",
       "      <th>has_lift</th>\n",
       "      <th>is_two_storey</th>\n",
       "    </tr>\n",
       "  </thead>\n",
       "  <tbody>\n",
       "    <tr>\n",
       "      <td>0</td>\n",
       "      <td>60449395</td>\n",
       "      <td>1</td>\n",
       "      <td>4.0</td>\n",
       "      <td>12344.0</td>\n",
       "      <td>291.594142</td>\n",
       "      <td>1978.049782</td>\n",
       "      <td>32.0</td>\n",
       "      <td>0.948291</td>\n",
       "      <td>0.985897</td>\n",
       "      <td>Rataje</td>\n",
       "      <td>Poznań, Nowe Miasto, Rataje, ul. Katowicka 25</td>\n",
       "      <td>https://www.otodom.pl/oferta/luksusowa-kawaler...</td>\n",
       "      <td>&lt;p&gt;Sprzedam bezpośrednio ekskluzywną, w pełni ...</td>\n",
       "      <td>291.594142</td>\n",
       "      <td>0.0</td>\n",
       "      <td>0.0</td>\n",
       "      <td>1.0</td>\n",
       "      <td>0.0</td>\n",
       "      <td>1.0</td>\n",
       "      <td>0.0</td>\n",
       "      <td>0.0</td>\n",
       "      <td>1.0</td>\n",
       "      <td>0.0</td>\n",
       "    </tr>\n",
       "    <tr>\n",
       "      <td>1</td>\n",
       "      <td>60575314</td>\n",
       "      <td>4</td>\n",
       "      <td>4.0</td>\n",
       "      <td>14000.0</td>\n",
       "      <td>900.000000</td>\n",
       "      <td>2017.000000</td>\n",
       "      <td>90.0</td>\n",
       "      <td>5</td>\n",
       "      <td>5.000000</td>\n",
       "      <td>Jeżyce</td>\n",
       "      <td>Poznań, Jeżyce, ul. Kościelna</td>\n",
       "      <td>https://www.otodom.pl/oferta/jedyny-taki-apart...</td>\n",
       "      <td>&lt;p&gt;&lt;strong&gt;WYJĄTKOWY APARTAMENT –&lt;/strong&gt; NOW...</td>\n",
       "      <td>675.325612</td>\n",
       "      <td>0.0</td>\n",
       "      <td>0.0</td>\n",
       "      <td>1.0</td>\n",
       "      <td>1.0</td>\n",
       "      <td>1.0</td>\n",
       "      <td>0.0</td>\n",
       "      <td>0.0</td>\n",
       "      <td>1.0</td>\n",
       "      <td>0.0</td>\n",
       "    </tr>\n",
       "  </tbody>\n",
       "</table>\n",
       "</div>"
      ],
      "text/plain": [
       "         id rooms  building_type  price per m        rent   built year  size  \\\n",
       "0  60449395     1            4.0      12344.0  291.594142  1978.049782  32.0   \n",
       "1  60575314     4            4.0      14000.0  900.000000  2017.000000  90.0   \n",
       "\n",
       "     floors  floor no district                                        address  \\\n",
       "0  0.948291  0.985897   Rataje  Poznań, Nowe Miasto, Rataje, ul. Katowicka 25   \n",
       "1         5  5.000000   Jeżyce                  Poznań, Jeżyce, ul. Kościelna   \n",
       "\n",
       "                                                 url  \\\n",
       "0  https://www.otodom.pl/oferta/luksusowa-kawaler...   \n",
       "1  https://www.otodom.pl/oferta/jedyny-taki-apart...   \n",
       "\n",
       "                                         description    rent_hat  \\\n",
       "0  <p>Sprzedam bezpośrednio ekskluzywną, w pełni ...  291.594142   \n",
       "1  <p><strong>WYJĄTKOWY APARTAMENT –</strong> NOW...  675.325612   \n",
       "\n",
       "   for_renovation  for_completion  has_balcony  has_basement  has_garage  \\\n",
       "0             0.0             0.0          1.0           0.0         1.0   \n",
       "1             0.0             0.0          1.0           1.0         1.0   \n",
       "\n",
       "   has_garden  has_terrace  has_lift  is_two_storey  \n",
       "0         0.0          0.0       1.0            0.0  \n",
       "1         0.0          0.0       1.0            0.0  "
      ]
     },
     "execution_count": 87,
     "metadata": {},
     "output_type": "execute_result"
    }
   ],
   "source": [
    "df.head(2)"
   ]
  },
  {
   "cell_type": "markdown",
   "metadata": {},
   "source": [
    "### find and remove potential duplicates by id"
   ]
  },
  {
   "cell_type": "code",
   "execution_count": 88,
   "metadata": {},
   "outputs": [],
   "source": [
    "global_ids = []\n",
    "def isDuplicate(id):\n",
    "    if id in global_ids:\n",
    "        return True\n",
    "    else:\n",
    "        global_ids.append(id)\n",
    "        return False\n",
    "\n",
    "df['is_duplicate'] = df['id'].apply(isDuplicate)\n",
    "df = df[df['is_duplicate'] == False]"
   ]
  },
  {
   "cell_type": "code",
   "execution_count": 89,
   "metadata": {},
   "outputs": [
    {
     "data": {
      "text/plain": [
       "(2081, 24)"
      ]
     },
     "execution_count": 89,
     "metadata": {},
     "output_type": "execute_result"
    }
   ],
   "source": [
    "df.shape"
   ]
  },
  {
   "cell_type": "markdown",
   "metadata": {},
   "source": [
    "**Using OpenCage Geocoding API** to get the longitude and latitude\n",
    "https://opencagedata.com/api#forward-opt"
   ]
  },
  {
   "cell_type": "code",
   "execution_count": 92,
   "metadata": {},
   "outputs": [],
   "source": [
    "geo_key='3e3cc12415d54fa598003cc257642df1'\n",
    "latitude = []\n",
    "longitude = []\n",
    "for adr in df[\"address\"]:\n",
    "    adr = str(adr).replace('ul.', '')\n",
    "    splt = adr.split(\",\")\n",
    "    search_adr = '{}, {}'.format(splt[-1].strip(), splt[0])\n",
    "    parsed_address = urllib.parse.quote(search_adr)\n",
    "    download_url = 'https://api.opencagedata.com/geocode/v1/geojson?q={}&key={}'.format(parsed_address, geo_key)\n",
    "    lat_lng_coords = None\n",
    "    while(lat_lng_coords is None):\n",
    "        try:\n",
    "            with urllib.request.urlopen(download_url) as urlop:\n",
    "                lat_lng_coords = json.loads(urlop.read().decode())\n",
    "        except:\n",
    "            print(\"{}|{}\".format(search_adr, download_url))\n",
    "    latitude.append(lat_lng_coords['features'][0]['geometry']['coordinates'][1])\n",
    "    longitude.append(lat_lng_coords['features'][0]['geometry']['coordinates'][0])"
   ]
  },
  {
   "cell_type": "code",
   "execution_count": 93,
   "metadata": {},
   "outputs": [],
   "source": [
    "df[\"latitude\"] = latitude\n",
    "df[\"longitude\"] = longitude"
   ]
  },
  {
   "cell_type": "markdown",
   "metadata": {},
   "source": [
    "### Get coordinates for the center of the city"
   ]
  },
  {
   "cell_type": "code",
   "execution_count": 11,
   "metadata": {},
   "outputs": [],
   "source": [
    "geo_key='3e3cc12415d54fa598003cc257642df1'\n",
    "parsed_address = urllib.parse.quote(\"Poznań\")\n",
    "download_url = 'https://api.opencagedata.com/geocode/v1/geojson?q={}&key={}'.format(parsed_address, geo_key)\n",
    "with urllib.request.urlopen(download_url) as urlop:\n",
    "    lat_lng_coords = json.loads(urlop.read().decode())\n",
    "poz_lat = lat_lng_coords['features'][0]['geometry']['coordinates'][1]\n",
    "poz_long = lat_lng_coords['features'][0]['geometry']['coordinates'][0]"
   ]
  },
  {
   "cell_type": "markdown",
   "metadata": {},
   "source": [
    "### calculate distance to the city center\n",
    "Based on location details we can calculate a distance from apartment to the city center."
   ]
  },
  {
   "cell_type": "code",
   "execution_count": 54,
   "metadata": {},
   "outputs": [],
   "source": [
    "from geopy import distance\n",
    "def getDistance(apartment_geo):\n",
    "    city_center = (poz_lat, poz_long)\n",
    "    return geopy.distance.distance(city_center, apartment_geo).km"
   ]
  },
  {
   "cell_type": "code",
   "execution_count": 100,
   "metadata": {},
   "outputs": [],
   "source": [
    "apartments_distance = []\n",
    "for lat, long in zip(latitude, longitude):\n",
    "        apartments_distance.append(getDistance((lat, long)))\n",
    "\n",
    "df[\"distance\"] = apartments_distance"
   ]
  },
  {
   "cell_type": "code",
   "execution_count": 101,
   "metadata": {},
   "outputs": [
    {
     "data": {
      "image/png": "[encoded data removed]",
      "text/plain": [
       "<Figure size 432x288 with 1 Axes>"
      ]
     },
     "metadata": {
      "needs_background": "light"
     },
     "output_type": "display_data"
    }
   ],
   "source": [
    "ax = sns.regplot(x=\"distance\", y='price per m', data=df)"
   ]
  },
  {
   "cell_type": "code",
   "execution_count": 102,
   "metadata": {},
   "outputs": [],
   "source": [
    "#remove appartments further than 9 km away from the city center\n",
    "df = df[df[\"distance\"] < 9]"
   ]
  },
  {
   "cell_type": "code",
   "execution_count": 5,
   "metadata": {},
   "outputs": [
    {
     "data": {
      "text/plain": [
       "Unnamed: 0          int64\n",
       "id                  int64\n",
       "rooms               int64\n",
       "building_type       int64\n",
       "price per m         int64\n",
       "rent              float64\n",
       "built year        float64\n",
       "size              float64\n",
       "floors            float64\n",
       "floor no          float64\n",
       "district           object\n",
       "address            object\n",
       "url                object\n",
       "description        object\n",
       "rent_hat          float64\n",
       "for_renovation      int64\n",
       "for_completion      int64\n",
       "has_balcony       float64\n",
       "has_basement      float64\n",
       "has_garage        float64\n",
       "has_garden        float64\n",
       "has_terrace       float64\n",
       "has_lift          float64\n",
       "is_two_storey     float64\n",
       "is_duplicate         bool\n",
       "latitude          float64\n",
       "longitude         float64\n",
       "distance          float64\n",
       "dtype: object"
      ]
     },
     "execution_count": 5,
     "metadata": {},
     "output_type": "execute_result"
    }
   ],
   "source": [
    "#lets check what kid'a data types we have\n",
    "df.dtypes"
   ]
  },
  {
   "cell_type": "markdown",
   "metadata": {},
   "source": [
    "We need to correct data types for:\n",
    "- id\n",
    "- rooms\n",
    "- size\n",
    "- floors"
   ]
  },
  {
   "cell_type": "code",
   "execution_count": 104,
   "metadata": {},
   "outputs": [],
   "source": [
    "df[\"rooms\"] = pd.to_numeric(df[\"rooms\"], downcast='float', errors='coerce')\n",
    "rooms_max = df[\"rooms\"].max() \n",
    "df[\"rooms\"] = df[\"rooms\"].apply(lambda x: x if pd.notna(x) else rooms_max)"
   ]
  },
  {
   "cell_type": "code",
   "execution_count": 105,
   "metadata": {},
   "outputs": [],
   "source": [
    "df[\"size\"] = df[\"size\"].astype(float)"
   ]
  },
  {
   "cell_type": "code",
   "execution_count": 106,
   "metadata": {},
   "outputs": [],
   "source": [
    "df[\"floors\"] = df[\"floors\"].astype(float)"
   ]
  },
  {
   "cell_type": "code",
   "execution_count": 107,
   "metadata": {},
   "outputs": [],
   "source": [
    "df[\"id\"] = df[\"id\"].astype(int)"
   ]
  },
  {
   "cell_type": "markdown",
   "metadata": {},
   "source": [
    "### save backup to an Excel file"
   ]
  },
  {
   "cell_type": "code",
   "execution_count": 108,
   "metadata": {},
   "outputs": [],
   "source": [
    "df.to_excel(\"otodom_poznan.xlsx\")"
   ]
  },
  {
   "cell_type": "code",
   "execution_count": 40,
   "metadata": {},
   "outputs": [],
   "source": [
    "df = pd.read_excel(\"otodom_poznan.xlsx\", index_col=0)"
   ]
  },
  {
   "cell_type": "markdown",
   "metadata": {},
   "source": [
    "### Identify and remove apartments with unclear legal status (based on description)"
   ]
  },
  {
   "cell_type": "code",
   "execution_count": 41,
   "metadata": {},
   "outputs": [],
   "source": [
    "legal_unknown= []\n",
    "for desc, url in zip(df[\"description\"], df[\"url\"]):\n",
    "    if desc.lower().find(\"udzia\") >= 0 and desc.lower().find(\"wskaza\") >= 0:\n",
    "        start = desc.lower().find(\"udzia\")\n",
    "        legal_unknown.append(True)\n",
    "        #legal_unknown.append(desc[start:start + 100] + \" \" + url)\n",
    "    else:\n",
    "        legal_unknown.append(False)\n",
    "df[\"legal unknown\"] = legal_unknown\n",
    "df = df[df[\"legal unknown\"] == False]\n",
    "df.drop([\"legal unknown\", \"is_duplicate\"], axis=1, inplace=True)"
   ]
  },
  {
   "cell_type": "code",
   "execution_count": 44,
   "metadata": {},
   "outputs": [
    {
     "data": {
      "text/html": [
       "<div>\n",
       "<style scoped>\n",
       "    .dataframe tbody tr th:only-of-type {\n",
       "        vertical-align: middle;\n",
       "    }\n",
       "\n",
       "    .dataframe tbody tr th {\n",
       "        vertical-align: top;\n",
       "    }\n",
       "\n",
       "    .dataframe thead th {\n",
       "        text-align: right;\n",
       "    }\n",
       "</style>\n",
       "<table border=\"1\" class=\"dataframe\">\n",
       "  <thead>\n",
       "    <tr style=\"text-align: right;\">\n",
       "      <th></th>\n",
       "      <th>rooms</th>\n",
       "      <th>building_type</th>\n",
       "      <th>price per m</th>\n",
       "      <th>rent</th>\n",
       "      <th>built year</th>\n",
       "      <th>size</th>\n",
       "      <th>floors</th>\n",
       "      <th>floor no</th>\n",
       "      <th>district</th>\n",
       "      <th>address</th>\n",
       "      <th>url</th>\n",
       "      <th>description</th>\n",
       "      <th>rent_hat</th>\n",
       "      <th>for_renovation</th>\n",
       "      <th>for_completion</th>\n",
       "      <th>has_balcony</th>\n",
       "      <th>has_basement</th>\n",
       "      <th>has_garage</th>\n",
       "      <th>has_garden</th>\n",
       "      <th>has_terrace</th>\n",
       "      <th>has_lift</th>\n",
       "      <th>is_two_storey</th>\n",
       "      <th>latitude</th>\n",
       "      <th>longitude</th>\n",
       "      <th>distance</th>\n",
       "    </tr>\n",
       "  </thead>\n",
       "  <tbody>\n",
       "    <tr>\n",
       "      <td>count</td>\n",
       "      <td>2054.000000</td>\n",
       "      <td>2054.000000</td>\n",
       "      <td>2054.000000</td>\n",
       "      <td>2054.000000</td>\n",
       "      <td>2054.000000</td>\n",
       "      <td>2054.000000</td>\n",
       "      <td>2054.000000</td>\n",
       "      <td>2054.000000</td>\n",
       "      <td>2054</td>\n",
       "      <td>2054</td>\n",
       "      <td>2054</td>\n",
       "      <td>2054</td>\n",
       "      <td>2054.000000</td>\n",
       "      <td>2054.000000</td>\n",
       "      <td>2054.000000</td>\n",
       "      <td>2047.000000</td>\n",
       "      <td>2047.000000</td>\n",
       "      <td>2047.000000</td>\n",
       "      <td>2047.000000</td>\n",
       "      <td>2047.000000</td>\n",
       "      <td>2047.000000</td>\n",
       "      <td>2047.000000</td>\n",
       "      <td>2054.000000</td>\n",
       "      <td>2054.000000</td>\n",
       "      <td>2054.000000</td>\n",
       "    </tr>\n",
       "    <tr>\n",
       "      <td>unique</td>\n",
       "      <td>NaN</td>\n",
       "      <td>NaN</td>\n",
       "      <td>NaN</td>\n",
       "      <td>NaN</td>\n",
       "      <td>NaN</td>\n",
       "      <td>NaN</td>\n",
       "      <td>NaN</td>\n",
       "      <td>NaN</td>\n",
       "      <td>50</td>\n",
       "      <td>651</td>\n",
       "      <td>2054</td>\n",
       "      <td>1995</td>\n",
       "      <td>NaN</td>\n",
       "      <td>NaN</td>\n",
       "      <td>NaN</td>\n",
       "      <td>NaN</td>\n",
       "      <td>NaN</td>\n",
       "      <td>NaN</td>\n",
       "      <td>NaN</td>\n",
       "      <td>NaN</td>\n",
       "      <td>NaN</td>\n",
       "      <td>NaN</td>\n",
       "      <td>NaN</td>\n",
       "      <td>NaN</td>\n",
       "      <td>NaN</td>\n",
       "    </tr>\n",
       "    <tr>\n",
       "      <td>top</td>\n",
       "      <td>NaN</td>\n",
       "      <td>NaN</td>\n",
       "      <td>NaN</td>\n",
       "      <td>NaN</td>\n",
       "      <td>NaN</td>\n",
       "      <td>NaN</td>\n",
       "      <td>NaN</td>\n",
       "      <td>NaN</td>\n",
       "      <td>Grunwald</td>\n",
       "      <td>Poznań, Grunwald</td>\n",
       "      <td>https://www.otodom.pl/oferta/niesamowite-miesz...</td>\n",
       "      <td>&lt;p&gt;Polecam do sprzedaży mieszkanie w standardz...</td>\n",
       "      <td>NaN</td>\n",
       "      <td>NaN</td>\n",
       "      <td>NaN</td>\n",
       "      <td>NaN</td>\n",
       "      <td>NaN</td>\n",
       "      <td>NaN</td>\n",
       "      <td>NaN</td>\n",
       "      <td>NaN</td>\n",
       "      <td>NaN</td>\n",
       "      <td>NaN</td>\n",
       "      <td>NaN</td>\n",
       "      <td>NaN</td>\n",
       "      <td>NaN</td>\n",
       "    </tr>\n",
       "    <tr>\n",
       "      <td>freq</td>\n",
       "      <td>NaN</td>\n",
       "      <td>NaN</td>\n",
       "      <td>NaN</td>\n",
       "      <td>NaN</td>\n",
       "      <td>NaN</td>\n",
       "      <td>NaN</td>\n",
       "      <td>NaN</td>\n",
       "      <td>NaN</td>\n",
       "      <td>245</td>\n",
       "      <td>126</td>\n",
       "      <td>1</td>\n",
       "      <td>15</td>\n",
       "      <td>NaN</td>\n",
       "      <td>NaN</td>\n",
       "      <td>NaN</td>\n",
       "      <td>NaN</td>\n",
       "      <td>NaN</td>\n",
       "      <td>NaN</td>\n",
       "      <td>NaN</td>\n",
       "      <td>NaN</td>\n",
       "      <td>NaN</td>\n",
       "      <td>NaN</td>\n",
       "      <td>NaN</td>\n",
       "      <td>NaN</td>\n",
       "      <td>NaN</td>\n",
       "    </tr>\n",
       "    <tr>\n",
       "      <td>mean</td>\n",
       "      <td>2.570107</td>\n",
       "      <td>3.445959</td>\n",
       "      <td>7845.778481</td>\n",
       "      <td>477.401615</td>\n",
       "      <td>1977.774906</td>\n",
       "      <td>59.888393</td>\n",
       "      <td>4.937524</td>\n",
       "      <td>2.184305</td>\n",
       "      <td>NaN</td>\n",
       "      <td>NaN</td>\n",
       "      <td>NaN</td>\n",
       "      <td>NaN</td>\n",
       "      <td>476.105421</td>\n",
       "      <td>0.067673</td>\n",
       "      <td>0.079357</td>\n",
       "      <td>0.462628</td>\n",
       "      <td>0.400586</td>\n",
       "      <td>0.239863</td>\n",
       "      <td>0.060088</td>\n",
       "      <td>0.072301</td>\n",
       "      <td>0.395213</td>\n",
       "      <td>0.018075</td>\n",
       "      <td>52.409562</td>\n",
       "      <td>16.918749</td>\n",
       "      <td>3.227986</td>\n",
       "    </tr>\n",
       "    <tr>\n",
       "      <td>std</td>\n",
       "      <td>1.065192</td>\n",
       "      <td>0.835029</td>\n",
       "      <td>1756.589816</td>\n",
       "      <td>287.183519</td>\n",
       "      <td>34.380925</td>\n",
       "      <td>32.658786</td>\n",
       "      <td>3.400085</td>\n",
       "      <td>1.931374</td>\n",
       "      <td>NaN</td>\n",
       "      <td>NaN</td>\n",
       "      <td>NaN</td>\n",
       "      <td>NaN</td>\n",
       "      <td>216.072482</td>\n",
       "      <td>0.251245</td>\n",
       "      <td>0.270362</td>\n",
       "      <td>0.498723</td>\n",
       "      <td>0.490137</td>\n",
       "      <td>0.427104</td>\n",
       "      <td>0.237708</td>\n",
       "      <td>0.259049</td>\n",
       "      <td>0.489016</td>\n",
       "      <td>0.133256</td>\n",
       "      <td>0.024385</td>\n",
       "      <td>0.031893</td>\n",
       "      <td>1.637174</td>\n",
       "    </tr>\n",
       "    <tr>\n",
       "      <td>min</td>\n",
       "      <td>1.000000</td>\n",
       "      <td>0.000000</td>\n",
       "      <td>3064.000000</td>\n",
       "      <td>1.000000</td>\n",
       "      <td>1880.000000</td>\n",
       "      <td>19.000000</td>\n",
       "      <td>0.948291</td>\n",
       "      <td>-1.000000</td>\n",
       "      <td>NaN</td>\n",
       "      <td>NaN</td>\n",
       "      <td>NaN</td>\n",
       "      <td>NaN</td>\n",
       "      <td>205.585364</td>\n",
       "      <td>0.000000</td>\n",
       "      <td>0.000000</td>\n",
       "      <td>0.000000</td>\n",
       "      <td>0.000000</td>\n",
       "      <td>0.000000</td>\n",
       "      <td>0.000000</td>\n",
       "      <td>0.000000</td>\n",
       "      <td>0.000000</td>\n",
       "      <td>0.000000</td>\n",
       "      <td>52.341945</td>\n",
       "      <td>16.808681</td>\n",
       "      <td>0.000000</td>\n",
       "    </tr>\n",
       "    <tr>\n",
       "      <td>25%</td>\n",
       "      <td>2.000000</td>\n",
       "      <td>3.000000</td>\n",
       "      <td>6702.000000</td>\n",
       "      <td>350.000000</td>\n",
       "      <td>1976.000000</td>\n",
       "      <td>43.000000</td>\n",
       "      <td>3.000000</td>\n",
       "      <td>1.000000</td>\n",
       "      <td>NaN</td>\n",
       "      <td>NaN</td>\n",
       "      <td>NaN</td>\n",
       "      <td>NaN</td>\n",
       "      <td>364.370800</td>\n",
       "      <td>0.000000</td>\n",
       "      <td>0.000000</td>\n",
       "      <td>0.000000</td>\n",
       "      <td>0.000000</td>\n",
       "      <td>0.000000</td>\n",
       "      <td>0.000000</td>\n",
       "      <td>0.000000</td>\n",
       "      <td>0.000000</td>\n",
       "      <td>0.000000</td>\n",
       "      <td>52.390130</td>\n",
       "      <td>16.898641</td>\n",
       "      <td>2.330681</td>\n",
       "    </tr>\n",
       "    <tr>\n",
       "      <td>50%</td>\n",
       "      <td>2.000000</td>\n",
       "      <td>4.000000</td>\n",
       "      <td>7638.000000</td>\n",
       "      <td>440.000000</td>\n",
       "      <td>1978.049782</td>\n",
       "      <td>52.830000</td>\n",
       "      <td>4.000000</td>\n",
       "      <td>2.000000</td>\n",
       "      <td>NaN</td>\n",
       "      <td>NaN</td>\n",
       "      <td>NaN</td>\n",
       "      <td>NaN</td>\n",
       "      <td>429.406668</td>\n",
       "      <td>0.000000</td>\n",
       "      <td>0.000000</td>\n",
       "      <td>0.000000</td>\n",
       "      <td>0.000000</td>\n",
       "      <td>0.000000</td>\n",
       "      <td>0.000000</td>\n",
       "      <td>0.000000</td>\n",
       "      <td>0.000000</td>\n",
       "      <td>0.000000</td>\n",
       "      <td>52.404685</td>\n",
       "      <td>16.917438</td>\n",
       "      <td>3.053105</td>\n",
       "    </tr>\n",
       "    <tr>\n",
       "      <td>75%</td>\n",
       "      <td>3.000000</td>\n",
       "      <td>4.000000</td>\n",
       "      <td>8792.250000</td>\n",
       "      <td>550.000000</td>\n",
       "      <td>2008.000000</td>\n",
       "      <td>66.875000</td>\n",
       "      <td>5.000000</td>\n",
       "      <td>3.000000</td>\n",
       "      <td>NaN</td>\n",
       "      <td>NaN</td>\n",
       "      <td>NaN</td>\n",
       "      <td>NaN</td>\n",
       "      <td>522.329228</td>\n",
       "      <td>0.000000</td>\n",
       "      <td>0.000000</td>\n",
       "      <td>1.000000</td>\n",
       "      <td>1.000000</td>\n",
       "      <td>0.000000</td>\n",
       "      <td>0.000000</td>\n",
       "      <td>0.000000</td>\n",
       "      <td>1.000000</td>\n",
       "      <td>0.000000</td>\n",
       "      <td>52.430926</td>\n",
       "      <td>16.938353</td>\n",
       "      <td>4.343205</td>\n",
       "    </tr>\n",
       "    <tr>\n",
       "      <td>max</td>\n",
       "      <td>10.000000</td>\n",
       "      <td>4.000000</td>\n",
       "      <td>16927.000000</td>\n",
       "      <td>6522.000000</td>\n",
       "      <td>2023.000000</td>\n",
       "      <td>583.730000</td>\n",
       "      <td>61.000000</td>\n",
       "      <td>9.000000</td>\n",
       "      <td>NaN</td>\n",
       "      <td>NaN</td>\n",
       "      <td>NaN</td>\n",
       "      <td>NaN</td>\n",
       "      <td>3941.872829</td>\n",
       "      <td>1.000000</td>\n",
       "      <td>1.000000</td>\n",
       "      <td>1.000000</td>\n",
       "      <td>1.000000</td>\n",
       "      <td>1.000000</td>\n",
       "      <td>1.000000</td>\n",
       "      <td>1.000000</td>\n",
       "      <td>1.000000</td>\n",
       "      <td>1.000000</td>\n",
       "      <td>52.463233</td>\n",
       "      <td>17.043903</td>\n",
       "      <td>8.977678</td>\n",
       "    </tr>\n",
       "  </tbody>\n",
       "</table>\n",
       "</div>"
      ],
      "text/plain": [
       "              rooms  building_type   price per m         rent   built year  \\\n",
       "count   2054.000000    2054.000000   2054.000000  2054.000000  2054.000000   \n",
       "unique          NaN            NaN           NaN          NaN          NaN   \n",
       "top             NaN            NaN           NaN          NaN          NaN   \n",
       "freq            NaN            NaN           NaN          NaN          NaN   \n",
       "mean       2.570107       3.445959   7845.778481   477.401615  1977.774906   \n",
       "std        1.065192       0.835029   1756.589816   287.183519    34.380925   \n",
       "min        1.000000       0.000000   3064.000000     1.000000  1880.000000   \n",
       "25%        2.000000       3.000000   6702.000000   350.000000  1976.000000   \n",
       "50%        2.000000       4.000000   7638.000000   440.000000  1978.049782   \n",
       "75%        3.000000       4.000000   8792.250000   550.000000  2008.000000   \n",
       "max       10.000000       4.000000  16927.000000  6522.000000  2023.000000   \n",
       "\n",
       "               size       floors     floor no  district           address  \\\n",
       "count   2054.000000  2054.000000  2054.000000      2054              2054   \n",
       "unique          NaN          NaN          NaN        50               651   \n",
       "top             NaN          NaN          NaN  Grunwald  Poznań, Grunwald   \n",
       "freq            NaN          NaN          NaN       245               126   \n",
       "mean      59.888393     4.937524     2.184305       NaN               NaN   \n",
       "std       32.658786     3.400085     1.931374       NaN               NaN   \n",
       "min       19.000000     0.948291    -1.000000       NaN               NaN   \n",
       "25%       43.000000     3.000000     1.000000       NaN               NaN   \n",
       "50%       52.830000     4.000000     2.000000       NaN               NaN   \n",
       "75%       66.875000     5.000000     3.000000       NaN               NaN   \n",
       "max      583.730000    61.000000     9.000000       NaN               NaN   \n",
       "\n",
       "                                                      url  \\\n",
       "count                                                2054   \n",
       "unique                                               2054   \n",
       "top     https://www.otodom.pl/oferta/niesamowite-miesz...   \n",
       "freq                                                    1   \n",
       "mean                                                  NaN   \n",
       "std                                                   NaN   \n",
       "min                                                   NaN   \n",
       "25%                                                   NaN   \n",
       "50%                                                   NaN   \n",
       "75%                                                   NaN   \n",
       "max                                                   NaN   \n",
       "\n",
       "                                              description     rent_hat  \\\n",
       "count                                                2054  2054.000000   \n",
       "unique                                               1995          NaN   \n",
       "top     <p>Polecam do sprzedaży mieszkanie w standardz...          NaN   \n",
       "freq                                                   15          NaN   \n",
       "mean                                                  NaN   476.105421   \n",
       "std                                                   NaN   216.072482   \n",
       "min                                                   NaN   205.585364   \n",
       "25%                                                   NaN   364.370800   \n",
       "50%                                                   NaN   429.406668   \n",
       "75%                                                   NaN   522.329228   \n",
       "max                                                   NaN  3941.872829   \n",
       "\n",
       "        for_renovation  for_completion  has_balcony  has_basement  \\\n",
       "count      2054.000000     2054.000000  2047.000000   2047.000000   \n",
       "unique             NaN             NaN          NaN           NaN   \n",
       "top                NaN             NaN          NaN           NaN   \n",
       "freq               NaN             NaN          NaN           NaN   \n",
       "mean          0.067673        0.079357     0.462628      0.400586   \n",
       "std           0.251245        0.270362     0.498723      0.490137   \n",
       "min           0.000000        0.000000     0.000000      0.000000   \n",
       "25%           0.000000        0.000000     0.000000      0.000000   \n",
       "50%           0.000000        0.000000     0.000000      0.000000   \n",
       "75%           0.000000        0.000000     1.000000      1.000000   \n",
       "max           1.000000        1.000000     1.000000      1.000000   \n",
       "\n",
       "         has_garage   has_garden  has_terrace     has_lift  is_two_storey  \\\n",
       "count   2047.000000  2047.000000  2047.000000  2047.000000    2047.000000   \n",
       "unique          NaN          NaN          NaN          NaN            NaN   \n",
       "top             NaN          NaN          NaN          NaN            NaN   \n",
       "freq            NaN          NaN          NaN          NaN            NaN   \n",
       "mean       0.239863     0.060088     0.072301     0.395213       0.018075   \n",
       "std        0.427104     0.237708     0.259049     0.489016       0.133256   \n",
       "min        0.000000     0.000000     0.000000     0.000000       0.000000   \n",
       "25%        0.000000     0.000000     0.000000     0.000000       0.000000   \n",
       "50%        0.000000     0.000000     0.000000     0.000000       0.000000   \n",
       "75%        0.000000     0.000000     0.000000     1.000000       0.000000   \n",
       "max        1.000000     1.000000     1.000000     1.000000       1.000000   \n",
       "\n",
       "           latitude    longitude     distance  \n",
       "count   2054.000000  2054.000000  2054.000000  \n",
       "unique          NaN          NaN          NaN  \n",
       "top             NaN          NaN          NaN  \n",
       "freq            NaN          NaN          NaN  \n",
       "mean      52.409562    16.918749     3.227986  \n",
       "std        0.024385     0.031893     1.637174  \n",
       "min       52.341945    16.808681     0.000000  \n",
       "25%       52.390130    16.898641     2.330681  \n",
       "50%       52.404685    16.917438     3.053105  \n",
       "75%       52.430926    16.938353     4.343205  \n",
       "max       52.463233    17.043903     8.977678  "
      ]
     },
     "execution_count": 44,
     "metadata": {},
     "output_type": "execute_result"
    }
   ],
   "source": [
    "#and lets see description of the data\n",
    "include =['object', 'float', 'int'] \n",
    "df.describe(include = include)"
   ]
  },
  {
   "cell_type": "code",
   "execution_count": 45,
   "metadata": {},
   "outputs": [
    {
     "data": {
      "text/html": [
       "<div>\n",
       "<style scoped>\n",
       "    .dataframe tbody tr th:only-of-type {\n",
       "        vertical-align: middle;\n",
       "    }\n",
       "\n",
       "    .dataframe tbody tr th {\n",
       "        vertical-align: top;\n",
       "    }\n",
       "\n",
       "    .dataframe thead th {\n",
       "        text-align: right;\n",
       "    }\n",
       "</style>\n",
       "<table border=\"1\" class=\"dataframe\">\n",
       "  <thead>\n",
       "    <tr style=\"text-align: right;\">\n",
       "      <th></th>\n",
       "      <th>rooms</th>\n",
       "      <th>building_type</th>\n",
       "      <th>price per m</th>\n",
       "      <th>rent</th>\n",
       "      <th>built year</th>\n",
       "      <th>size</th>\n",
       "      <th>floors</th>\n",
       "      <th>floor no</th>\n",
       "      <th>district</th>\n",
       "      <th>address</th>\n",
       "      <th>url</th>\n",
       "      <th>description</th>\n",
       "      <th>rent_hat</th>\n",
       "      <th>for_renovation</th>\n",
       "      <th>for_completion</th>\n",
       "      <th>has_balcony</th>\n",
       "      <th>has_basement</th>\n",
       "      <th>has_garage</th>\n",
       "      <th>has_garden</th>\n",
       "      <th>has_terrace</th>\n",
       "      <th>has_lift</th>\n",
       "      <th>is_two_storey</th>\n",
       "      <th>latitude</th>\n",
       "      <th>longitude</th>\n",
       "      <th>distance</th>\n",
       "    </tr>\n",
       "    <tr>\n",
       "      <th>id</th>\n",
       "      <th></th>\n",
       "      <th></th>\n",
       "      <th></th>\n",
       "      <th></th>\n",
       "      <th></th>\n",
       "      <th></th>\n",
       "      <th></th>\n",
       "      <th></th>\n",
       "      <th></th>\n",
       "      <th></th>\n",
       "      <th></th>\n",
       "      <th></th>\n",
       "      <th></th>\n",
       "      <th></th>\n",
       "      <th></th>\n",
       "      <th></th>\n",
       "      <th></th>\n",
       "      <th></th>\n",
       "      <th></th>\n",
       "      <th></th>\n",
       "      <th></th>\n",
       "      <th></th>\n",
       "      <th></th>\n",
       "      <th></th>\n",
       "      <th></th>\n",
       "    </tr>\n",
       "  </thead>\n",
       "  <tbody>\n",
       "    <tr>\n",
       "      <td>60449395</td>\n",
       "      <td>1</td>\n",
       "      <td>4</td>\n",
       "      <td>12344</td>\n",
       "      <td>291.594142</td>\n",
       "      <td>1978.049782</td>\n",
       "      <td>32.0</td>\n",
       "      <td>0.948291</td>\n",
       "      <td>0.985897</td>\n",
       "      <td>Rataje</td>\n",
       "      <td>Poznań, Nowe Miasto, Rataje, ul. Katowicka 25</td>\n",
       "      <td>https://www.otodom.pl/oferta/luksusowa-kawaler...</td>\n",
       "      <td>&lt;p&gt;Sprzedam bezpośrednio ekskluzywną, w pełni ...</td>\n",
       "      <td>291.594142</td>\n",
       "      <td>0</td>\n",
       "      <td>0</td>\n",
       "      <td>1.0</td>\n",
       "      <td>0.0</td>\n",
       "      <td>1.0</td>\n",
       "      <td>0.0</td>\n",
       "      <td>0.0</td>\n",
       "      <td>1.0</td>\n",
       "      <td>0.0</td>\n",
       "      <td>52.399001</td>\n",
       "      <td>16.964067</td>\n",
       "      <td>2.320595</td>\n",
       "    </tr>\n",
       "    <tr>\n",
       "      <td>60575314</td>\n",
       "      <td>4</td>\n",
       "      <td>4</td>\n",
       "      <td>14000</td>\n",
       "      <td>900.000000</td>\n",
       "      <td>2017.000000</td>\n",
       "      <td>90.0</td>\n",
       "      <td>5.000000</td>\n",
       "      <td>5.000000</td>\n",
       "      <td>Jeżyce</td>\n",
       "      <td>Poznań, Jeżyce, ul. Kościelna</td>\n",
       "      <td>https://www.otodom.pl/oferta/jedyny-taki-apart...</td>\n",
       "      <td>&lt;p&gt;&lt;strong&gt;WYJĄTKOWY APARTAMENT –&lt;/strong&gt; NOW...</td>\n",
       "      <td>675.325612</td>\n",
       "      <td>0</td>\n",
       "      <td>0</td>\n",
       "      <td>1.0</td>\n",
       "      <td>1.0</td>\n",
       "      <td>1.0</td>\n",
       "      <td>0.0</td>\n",
       "      <td>0.0</td>\n",
       "      <td>1.0</td>\n",
       "      <td>0.0</td>\n",
       "      <td>52.417841</td>\n",
       "      <td>16.907349</td>\n",
       "      <td>2.075196</td>\n",
       "    </tr>\n",
       "  </tbody>\n",
       "</table>\n",
       "</div>"
      ],
      "text/plain": [
       "          rooms  building_type  price per m        rent   built year  size  \\\n",
       "id                                                                           \n",
       "60449395      1              4        12344  291.594142  1978.049782  32.0   \n",
       "60575314      4              4        14000  900.000000  2017.000000  90.0   \n",
       "\n",
       "            floors  floor no district  \\\n",
       "id                                      \n",
       "60449395  0.948291  0.985897   Rataje   \n",
       "60575314  5.000000  5.000000   Jeżyce   \n",
       "\n",
       "                                                address  \\\n",
       "id                                                        \n",
       "60449395  Poznań, Nowe Miasto, Rataje, ul. Katowicka 25   \n",
       "60575314                  Poznań, Jeżyce, ul. Kościelna   \n",
       "\n",
       "                                                        url  \\\n",
       "id                                                            \n",
       "60449395  https://www.otodom.pl/oferta/luksusowa-kawaler...   \n",
       "60575314  https://www.otodom.pl/oferta/jedyny-taki-apart...   \n",
       "\n",
       "                                                description    rent_hat  \\\n",
       "id                                                                        \n",
       "60449395  <p>Sprzedam bezpośrednio ekskluzywną, w pełni ...  291.594142   \n",
       "60575314  <p><strong>WYJĄTKOWY APARTAMENT –</strong> NOW...  675.325612   \n",
       "\n",
       "          for_renovation  for_completion  has_balcony  has_basement  \\\n",
       "id                                                                    \n",
       "60449395               0               0          1.0           0.0   \n",
       "60575314               0               0          1.0           1.0   \n",
       "\n",
       "          has_garage  has_garden  has_terrace  has_lift  is_two_storey  \\\n",
       "id                                                                       \n",
       "60449395         1.0         0.0          0.0       1.0            0.0   \n",
       "60575314         1.0         0.0          0.0       1.0            0.0   \n",
       "\n",
       "           latitude  longitude  distance  \n",
       "id                                        \n",
       "60449395  52.399001  16.964067  2.320595  \n",
       "60575314  52.417841  16.907349  2.075196  "
      ]
     },
     "execution_count": 45,
     "metadata": {},
     "output_type": "execute_result"
    }
   ],
   "source": [
    "df.head(2)"
   ]
  },
  {
   "cell_type": "markdown",
   "metadata": {},
   "source": [
    "### Visualize the data on the city map"
   ]
  },
  {
   "cell_type": "markdown",
   "metadata": {},
   "source": [
    "To make it faster lets use only 20% of data "
   ]
  },
  {
   "cell_type": "code",
   "execution_count": 9,
   "metadata": {},
   "outputs": [],
   "source": [
    "df_map = df[::5]"
   ]
  },
  {
   "cell_type": "code",
   "execution_count": 12,
   "metadata": {},
   "outputs": [
    {
     "data": {
      "text/html": [
       "<div style=\"width:100%;\"><div style=\"position:relative;width:100%;height:0;padding-bottom:60%;\"><iframe src=\"about:blank\" style=\"position:absolute;width:100%;height:100%;left:0;top:0;border:none !important;\" data-html=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 onload=\"this.contentDocument.open();this.contentDocument.write(atob(this.getAttribute('data-html')));this.contentDocument.close();\" allowfullscreen webkitallowfullscreen mozallowfullscreen></iframe></div></div>"
      ],
      "text/plain": [
       "<folium.folium.Map at 0x7f2580eac3d0>"
      ]
     },
     "execution_count": 12,
     "metadata": {},
     "output_type": "execute_result"
    }
   ],
   "source": [
    "map_poznan = folium.Map(location=[poz_lat, poz_long], zoom_start=12)\n",
    "\n",
    "#instantiate a mark cluster object for the postings in the dataframe\n",
    "apartments_cluster = plugins.MarkerCluster().add_to(map_poznan)\n",
    "\n",
    "# add markers to map\n",
    "for lat, lng, address in zip(df['latitude'], df['longitude'], df_map['address']):\n",
    "    label = '{}, {}, {}'.format(address, lat, lng)\n",
    "    label = folium.Popup(label, parse_html=True)\n",
    "    folium.CircleMarker(\n",
    "        [lat, lng],\n",
    "        radius=5,\n",
    "        popup=label,\n",
    "        color='blue',\n",
    "        fill=True,\n",
    "        fill_color='#3186cc',\n",
    "        fill_opacity=0.7,\n",
    "        parse_html=False).add_to(apartments_cluster)  \n",
    "    \n",
    "map_poznan"
   ]
  },
  {
   "cell_type": "markdown",
   "metadata": {},
   "source": [
    "## Next, utilizing the Foursquare API, explore the surroundings of each appartment"
   ]
  },
  {
   "cell_type": "markdown",
   "metadata": {},
   "source": [
    "Define Foursquare Credentials and Version"
   ]
  },
  {
   "cell_type": "code",
   "execution_count": 13,
   "metadata": {},
   "outputs": [],
   "source": [
    "# @hidden_cell\n",
    "CLIENT_ID = 'WCU4DFKQSFBVCJTZEXZ0KGSXIMZNKB4L2PIKD2WQ0AY2DJ21' # your Foursquare ID\n",
    "CLIENT_SECRET = 'REPQCFDXZFCKTUSRGOTXWJYE3U02L2UTSABPOJ4F4DXY05CN' # your Foursquare Secret\n",
    "VERSION = '20200616' # Foursquare API version"
   ]
  },
  {
   "cell_type": "markdown",
   "metadata": {},
   "source": [
    "## Now we want to add infromation from Forsquare"
   ]
  },
  {
   "cell_type": "markdown",
   "metadata": {},
   "source": [
    "### List of Foursquare categories to be able to group the results"
   ]
  },
  {
   "cell_type": "code",
   "execution_count": 48,
   "metadata": {},
   "outputs": [],
   "source": [
    "url = \"https://api.foursquare.com/v2/venues/categories?&client_id={}&client_secret={}&v={}\".format(CLIENT_ID, CLIENT_SECRET, VERSION)\n",
    "#requests.get(url).json()\n",
    "all_categories = requests.get(url).json()[\"response\"]['categories']"
   ]
  },
  {
   "cell_type": "markdown",
   "metadata": {},
   "source": [
    "### read a list of top level categories and build a map of all children categories and parents"
   ]
  },
  {
   "cell_type": "code",
   "execution_count": 49,
   "metadata": {},
   "outputs": [],
   "source": [
    "parent_categories = []\n",
    "all_children_categories = {}\n",
    "\n",
    "def getchildrencategories(categories, parent):\n",
    "    for category in categories:\n",
    "        if category[\"name\"] not in all_children_categories:\n",
    "            all_children_categories[category[\"name\"]]=parent\n",
    "            getchildrencategories(category[\"categories\"], parent)"
   ]
  },
  {
   "cell_type": "code",
   "execution_count": 50,
   "metadata": {},
   "outputs": [
    {
     "name": "stdout",
     "output_type": "stream",
     "text": [
      "Top level categories:\n",
      "- Arts & Entertainment\n",
      "- College & University\n",
      "- Event\n",
      "- Food\n",
      "- Nightlife Spot\n",
      "- Outdoors & Recreation\n",
      "- Professional & Other Places\n",
      "- Residence\n",
      "- Shop & Service\n",
      "- Travel & Transport\n"
     ]
    }
   ],
   "source": [
    "print(\"Top level categories:\")\n",
    "for category in all_categories:\n",
    "    print(\"- {}\".format(category[\"name\"]))\n",
    "    if category[\"name\"] not in parent_categories:\n",
    "        parent_categories.append(category[\"name\"])\n",
    "        getchildrencategories(category[\"categories\"], category[\"name\"])"
   ]
  },
  {
   "cell_type": "markdown",
   "metadata": {},
   "source": [
    "### Create a function to get name, location and categories of venues in a radius of 1000 meters from the coordinates of each apartment"
   ]
  },
  {
   "cell_type": "code",
   "execution_count": 51,
   "metadata": {},
   "outputs": [],
   "source": [
    "def getCategory(category):\n",
    "    if category in parent_categories:\n",
    "        return category\n",
    "    elif category in all_children_categories:\n",
    "        return all_children_categories[category]\n",
    "    else:\n",
    "        print(\"Category not found for {}.\".format(category))\n",
    "        return \"Residence\""
   ]
  },
  {
   "cell_type": "code",
   "execution_count": 52,
   "metadata": {},
   "outputs": [],
   "source": [
    "def getNearbyVenues(latitude, longitude):\n",
    "    venues_list=[]\n",
    "    radius = 1000\n",
    "    LIMIT = 150\n",
    "    venues_list=[]\n",
    "    # create the API request URL\n",
    "    url = 'https://api.foursquare.com/v2/venues/explore?&client_id={}&client_secret={}&v={}&ll={},{}&radius={}&limit={}'.format(\n",
    "            CLIENT_ID, \n",
    "            CLIENT_SECRET, \n",
    "            VERSION, \n",
    "            latitude, \n",
    "            longitude, \n",
    "            radius, \n",
    "            LIMIT)\n",
    "    # make the GET request\n",
    "    results = None\n",
    "    while(results is None):\n",
    "        try:\n",
    "            results = requests.get(url).json()[\"response\"]['groups'][0]['items']\n",
    "        except:\n",
    "            print(\"Foursquare API failure at {}|{}|{} retrying..\".format(latitude, longitude, url))\n",
    "            \n",
    "    \n",
    "    for v in results:\n",
    "        venues_list.append([\n",
    "            lat, \n",
    "            lng, \n",
    "            v['venue']['name'], \n",
    "            v['venue']['location']['lat'], \n",
    "            v['venue']['location']['lng'],  \n",
    "            getCategory(v['venue']['categories'][0]['name'])])\n",
    "    return venues_list"
   ]
  },
  {
   "cell_type": "markdown",
   "metadata": {},
   "source": [
    "### Run the function for all coordinates for each apartment"
   ]
  },
  {
   "cell_type": "code",
   "execution_count": 55,
   "metadata": {},
   "outputs": [
    {
     "name": "stdout",
     "output_type": "stream",
     "text": [
      "Foursquare API failure at 52.4152049|16.919472|https://api.foursquare.com/v2/venues/explore?&client_id=WCU4DFKQSFBVCJTZEXZ0KGSXIMZNKB4L2PIKD2WQ0AY2DJ21&client_secret=REPQCFDXZFCKTUSRGOTXWJYE3U02L2UTSABPOJ4F4DXY05CN&v=20200616&ll=52.4152049,16.919472&radius=1000&limit=150 retrying..\n",
      "Foursquare API failure at 52.4022998|16.9306378|https://api.foursquare.com/v2/venues/explore?&client_id=WCU4DFKQSFBVCJTZEXZ0KGSXIMZNKB4L2PIKD2WQ0AY2DJ21&client_secret=REPQCFDXZFCKTUSRGOTXWJYE3U02L2UTSABPOJ4F4DXY05CN&v=20200616&ll=52.4022998,16.9306378&radius=1000&limit=150 retrying..\n"
     ]
    }
   ],
   "source": [
    "venues = {}\n",
    "for category in parent_categories:\n",
    "    venues[category] = []\n",
    "    \n",
    "venues_distinct = {}\n",
    "# iterate through all coordinates\n",
    "for latitude, longitude in zip(df[\"latitude\"], df[\"longitude\"]):\n",
    "    #dictionary to count a number of venues of a given category nearby apartment\n",
    "    categories_counter = {}\n",
    "    for category in parent_categories:\n",
    "        categories_counter[category] = 0\n",
    "    \n",
    "    #try to find nearby apartments and get copy the same list of venues\n",
    "    #to limit the number of calls to foursquare API\n",
    "    nearby_distance = 0.05 #50 meters\n",
    "    found_nearby = False\n",
    "    for geo_key in venues_distinct:\n",
    "        if geopy.distance.distance((latitude, longitude), geo_key).km <= nearby_distance:\n",
    "            categories_counter = venues_distinct[geo_key]\n",
    "            found_nearby = True        \n",
    "    #if nearby apartments do not exists or were not explored yet\n",
    "    if found_nearby == False:\n",
    "        #get the list of venues from foursqare\n",
    "        venues_list = getNearbyVenues(latitude, longitude)\n",
    "        #count how many venues of each category exists nearby\n",
    "        for venue in venues_list:\n",
    "            categories_counter[venue[5]] += 1\n",
    "        venues_distinct[(latitude, longitude)] = categories_counter\n",
    "    for category in parent_categories:\n",
    "        venues[category].append(categories_counter[category])"
   ]
  },
  {
   "cell_type": "markdown",
   "metadata": {},
   "source": [
    "### Create a DataFrame from results and combine it with the main DataFrame\n"
   ]
  },
  {
   "cell_type": "code",
   "execution_count": 71,
   "metadata": {},
   "outputs": [
    {
     "data": {
      "text/html": [
       "<div>\n",
       "<style scoped>\n",
       "    .dataframe tbody tr th:only-of-type {\n",
       "        vertical-align: middle;\n",
       "    }\n",
       "\n",
       "    .dataframe tbody tr th {\n",
       "        vertical-align: top;\n",
       "    }\n",
       "\n",
       "    .dataframe thead th {\n",
       "        text-align: right;\n",
       "    }\n",
       "</style>\n",
       "<table border=\"1\" class=\"dataframe\">\n",
       "  <thead>\n",
       "    <tr style=\"text-align: right;\">\n",
       "      <th></th>\n",
       "      <th>Arts &amp; Entertainment</th>\n",
       "      <th>College &amp; University</th>\n",
       "      <th>Event</th>\n",
       "      <th>Food</th>\n",
       "      <th>Nightlife Spot</th>\n",
       "      <th>Outdoors &amp; Recreation</th>\n",
       "      <th>Professional &amp; Other Places</th>\n",
       "      <th>Residence</th>\n",
       "      <th>Shop &amp; Service</th>\n",
       "      <th>Travel &amp; Transport</th>\n",
       "    </tr>\n",
       "  </thead>\n",
       "  <tbody>\n",
       "    <tr>\n",
       "      <td>count</td>\n",
       "      <td>2054.000000</td>\n",
       "      <td>2054.000000</td>\n",
       "      <td>2054.0</td>\n",
       "      <td>2054.000000</td>\n",
       "      <td>2054.000000</td>\n",
       "      <td>2054.000000</td>\n",
       "      <td>2054.000000</td>\n",
       "      <td>2054.000000</td>\n",
       "      <td>2054.000000</td>\n",
       "      <td>2054.000000</td>\n",
       "    </tr>\n",
       "    <tr>\n",
       "      <td>mean</td>\n",
       "      <td>2.014119</td>\n",
       "      <td>0.035054</td>\n",
       "      <td>0.0</td>\n",
       "      <td>17.554528</td>\n",
       "      <td>2.630964</td>\n",
       "      <td>3.364654</td>\n",
       "      <td>0.219085</td>\n",
       "      <td>0.007790</td>\n",
       "      <td>7.310613</td>\n",
       "      <td>6.282376</td>\n",
       "    </tr>\n",
       "    <tr>\n",
       "      <td>std</td>\n",
       "      <td>2.575749</td>\n",
       "      <td>0.204046</td>\n",
       "      <td>0.0</td>\n",
       "      <td>19.267434</td>\n",
       "      <td>4.926457</td>\n",
       "      <td>2.105345</td>\n",
       "      <td>0.574423</td>\n",
       "      <td>0.087936</td>\n",
       "      <td>4.915250</td>\n",
       "      <td>3.257441</td>\n",
       "    </tr>\n",
       "    <tr>\n",
       "      <td>min</td>\n",
       "      <td>0.000000</td>\n",
       "      <td>0.000000</td>\n",
       "      <td>0.0</td>\n",
       "      <td>0.000000</td>\n",
       "      <td>0.000000</td>\n",
       "      <td>0.000000</td>\n",
       "      <td>0.000000</td>\n",
       "      <td>0.000000</td>\n",
       "      <td>0.000000</td>\n",
       "      <td>0.000000</td>\n",
       "    </tr>\n",
       "    <tr>\n",
       "      <td>25%</td>\n",
       "      <td>0.000000</td>\n",
       "      <td>0.000000</td>\n",
       "      <td>0.0</td>\n",
       "      <td>3.000000</td>\n",
       "      <td>0.000000</td>\n",
       "      <td>2.000000</td>\n",
       "      <td>0.000000</td>\n",
       "      <td>0.000000</td>\n",
       "      <td>4.000000</td>\n",
       "      <td>4.000000</td>\n",
       "    </tr>\n",
       "    <tr>\n",
       "      <td>50%</td>\n",
       "      <td>1.000000</td>\n",
       "      <td>0.000000</td>\n",
       "      <td>0.0</td>\n",
       "      <td>9.000000</td>\n",
       "      <td>0.000000</td>\n",
       "      <td>3.000000</td>\n",
       "      <td>0.000000</td>\n",
       "      <td>0.000000</td>\n",
       "      <td>6.000000</td>\n",
       "      <td>6.000000</td>\n",
       "    </tr>\n",
       "    <tr>\n",
       "      <td>75%</td>\n",
       "      <td>3.000000</td>\n",
       "      <td>0.000000</td>\n",
       "      <td>0.0</td>\n",
       "      <td>26.000000</td>\n",
       "      <td>3.000000</td>\n",
       "      <td>5.000000</td>\n",
       "      <td>0.000000</td>\n",
       "      <td>0.000000</td>\n",
       "      <td>9.000000</td>\n",
       "      <td>9.000000</td>\n",
       "    </tr>\n",
       "    <tr>\n",
       "      <td>max</td>\n",
       "      <td>11.000000</td>\n",
       "      <td>2.000000</td>\n",
       "      <td>0.0</td>\n",
       "      <td>67.000000</td>\n",
       "      <td>20.000000</td>\n",
       "      <td>16.000000</td>\n",
       "      <td>3.000000</td>\n",
       "      <td>1.000000</td>\n",
       "      <td>24.000000</td>\n",
       "      <td>17.000000</td>\n",
       "    </tr>\n",
       "  </tbody>\n",
       "</table>\n",
       "</div>"
      ],
      "text/plain": [
       "       Arts & Entertainment  College & University   Event         Food  \\\n",
       "count           2054.000000           2054.000000  2054.0  2054.000000   \n",
       "mean               2.014119              0.035054     0.0    17.554528   \n",
       "std                2.575749              0.204046     0.0    19.267434   \n",
       "min                0.000000              0.000000     0.0     0.000000   \n",
       "25%                0.000000              0.000000     0.0     3.000000   \n",
       "50%                1.000000              0.000000     0.0     9.000000   \n",
       "75%                3.000000              0.000000     0.0    26.000000   \n",
       "max               11.000000              2.000000     0.0    67.000000   \n",
       "\n",
       "       Nightlife Spot  Outdoors & Recreation  Professional & Other Places  \\\n",
       "count     2054.000000            2054.000000                  2054.000000   \n",
       "mean         2.630964               3.364654                     0.219085   \n",
       "std          4.926457               2.105345                     0.574423   \n",
       "min          0.000000               0.000000                     0.000000   \n",
       "25%          0.000000               2.000000                     0.000000   \n",
       "50%          0.000000               3.000000                     0.000000   \n",
       "75%          3.000000               5.000000                     0.000000   \n",
       "max         20.000000              16.000000                     3.000000   \n",
       "\n",
       "         Residence  Shop & Service  Travel & Transport  \n",
       "count  2054.000000     2054.000000         2054.000000  \n",
       "mean      0.007790        7.310613            6.282376  \n",
       "std       0.087936        4.915250            3.257441  \n",
       "min       0.000000        0.000000            0.000000  \n",
       "25%       0.000000        4.000000            4.000000  \n",
       "50%       0.000000        6.000000            6.000000  \n",
       "75%       0.000000        9.000000            9.000000  \n",
       "max       1.000000       24.000000           17.000000  "
      ]
     },
     "execution_count": 71,
     "metadata": {},
     "output_type": "execute_result"
    }
   ],
   "source": [
    "df_foursquare_api_data = pd.DataFrame(venues)\n",
    "include =['object', 'float', 'int'] \n",
    "df_foursquare_api_data.describe(include = include)"
   ]
  },
  {
   "cell_type": "code",
   "execution_count": 74,
   "metadata": {},
   "outputs": [
    {
     "data": {
      "text/html": [
       "<div>\n",
       "<style scoped>\n",
       "    .dataframe tbody tr th:only-of-type {\n",
       "        vertical-align: middle;\n",
       "    }\n",
       "\n",
       "    .dataframe tbody tr th {\n",
       "        vertical-align: top;\n",
       "    }\n",
       "\n",
       "    .dataframe thead th {\n",
       "        text-align: right;\n",
       "    }\n",
       "</style>\n",
       "<table border=\"1\" class=\"dataframe\">\n",
       "  <thead>\n",
       "    <tr style=\"text-align: right;\">\n",
       "      <th></th>\n",
       "      <th>Arts &amp; Entertainment</th>\n",
       "      <th>College &amp; University</th>\n",
       "      <th>Event</th>\n",
       "      <th>Food</th>\n",
       "      <th>Nightlife Spot</th>\n",
       "      <th>Outdoors &amp; Recreation</th>\n",
       "      <th>Professional &amp; Other Places</th>\n",
       "      <th>Residence</th>\n",
       "      <th>Shop &amp; Service</th>\n",
       "      <th>Travel &amp; Transport</th>\n",
       "    </tr>\n",
       "  </thead>\n",
       "  <tbody>\n",
       "    <tr>\n",
       "      <td>0</td>\n",
       "      <td>4</td>\n",
       "      <td>0</td>\n",
       "      <td>0</td>\n",
       "      <td>20</td>\n",
       "      <td>0</td>\n",
       "      <td>7</td>\n",
       "      <td>0</td>\n",
       "      <td>0</td>\n",
       "      <td>9</td>\n",
       "      <td>2</td>\n",
       "    </tr>\n",
       "    <tr>\n",
       "      <td>1</td>\n",
       "      <td>4</td>\n",
       "      <td>0</td>\n",
       "      <td>0</td>\n",
       "      <td>43</td>\n",
       "      <td>2</td>\n",
       "      <td>6</td>\n",
       "      <td>0</td>\n",
       "      <td>0</td>\n",
       "      <td>10</td>\n",
       "      <td>8</td>\n",
       "    </tr>\n",
       "  </tbody>\n",
       "</table>\n",
       "</div>"
      ],
      "text/plain": [
       "   Arts & Entertainment  College & University  Event  Food  Nightlife Spot  \\\n",
       "0                     4                     0      0    20               0   \n",
       "1                     4                     0      0    43               2   \n",
       "\n",
       "   Outdoors & Recreation  Professional & Other Places  Residence  \\\n",
       "0                      7                            0          0   \n",
       "1                      6                            0          0   \n",
       "\n",
       "   Shop & Service  Travel & Transport  \n",
       "0               9                   2  \n",
       "1              10                   8  "
      ]
     },
     "execution_count": 74,
     "metadata": {},
     "output_type": "execute_result"
    }
   ],
   "source": [
    "df_foursquare_api_data.head(2)"
   ]
  },
  {
   "cell_type": "code",
   "execution_count": 95,
   "metadata": {},
   "outputs": [
    {
     "data": {
      "text/plain": [
       "array(['Arts & Entertainment', 'College & University', 'Event', 'Food',\n",
       "       'Nightlife Spot', 'Outdoors & Recreation',\n",
       "       'Professional & Other Places', 'Residence', 'Shop & Service',\n",
       "       'Travel & Transport'], dtype=object)"
      ]
     },
     "execution_count": 95,
     "metadata": {},
     "output_type": "execute_result"
    }
   ],
   "source": [
    "df_copy_now = df.copy()\n",
    "df_foursquare_api_data.columns.values"
   ]
  },
  {
   "cell_type": "code",
   "execution_count": 96,
   "metadata": {},
   "outputs": [],
   "source": [
    "for category in df_foursquare_api_data.columns.values:\n",
    "    df[category] = df_foursquare_api_data[category]"
   ]
  },
  {
   "cell_type": "markdown",
   "metadata": {},
   "source": [
    "### We can remove Residence column as on average only 0.7% apartments have residence nearby; and Event as it has 0 values."
   ]
  },
  {
   "cell_type": "code",
   "execution_count": 98,
   "metadata": {},
   "outputs": [],
   "source": [
    "df.drop([\"Residence\"], axis=1, inplace=True)"
   ]
  },
  {
   "cell_type": "code",
   "execution_count": 99,
   "metadata": {},
   "outputs": [],
   "source": [
    "df.drop([\"Event\"], axis=1, inplace=True)"
   ]
  },
  {
   "cell_type": "markdown",
   "metadata": {},
   "source": [
    "Backup the data frame"
   ]
  },
  {
   "cell_type": "code",
   "execution_count": 100,
   "metadata": {},
   "outputs": [],
   "source": [
    "df.to_excel(\"otodom_poznan_with_foursquare.xlsx\")"
   ]
  },
  {
   "cell_type": "code",
   "execution_count": 101,
   "metadata": {},
   "outputs": [
    {
     "name": "stdout",
     "output_type": "stream",
     "text": [
      "Index(['id', 'rooms', 'building_type', 'price per m', 'rent', 'built year',\n",
      "       'size', 'floors', 'floor no', 'district', 'address', 'url',\n",
      "       'description', 'rent_hat', 'for_renovation', 'for_completion',\n",
      "       'has_balcony', 'has_basement', 'has_garage', 'has_garden',\n",
      "       'has_terrace', 'has_lift', 'is_two_storey', 'latitude', 'longitude',\n",
      "       'distance', 'Arts & Entertainment', 'College & University', 'Food',\n",
      "       'Nightlife Spot', 'Outdoors & Recreation',\n",
      "       'Professional & Other Places', 'Shop & Service', 'Travel & Transport'],\n",
      "      dtype='object')\n"
     ]
    }
   ],
   "source": [
    "columns = df.columns\n",
    "print(columns)"
   ]
  },
  {
   "cell_type": "code",
   "execution_count": 104,
   "metadata": {},
   "outputs": [],
   "source": [
    "use_columns = ['rooms', 'building_type', 'rent', 'built year', 'size',\n",
    "       'floors', 'floor no', 'for_renovation', 'for_completion', 'has_balcony',\n",
    "       'has_basement', 'has_garage', 'has_garden', 'has_terrace', 'has_lift',\n",
    "       'is_two_storey', 'distance',\n",
    "       'Arts & Entertainment', 'College & University', 'Food',\n",
    "       'Nightlife Spot', 'Outdoors & Recreation',\n",
    "       'Professional & Other Places', 'Shop & Service', 'Travel & Transport']"
   ]
  },
  {
   "cell_type": "code",
   "execution_count": 105,
   "metadata": {},
   "outputs": [
    {
     "data": {
      "text/html": [
       "<div>\n",
       "<style scoped>\n",
       "    .dataframe tbody tr th:only-of-type {\n",
       "        vertical-align: middle;\n",
       "    }\n",
       "\n",
       "    .dataframe tbody tr th {\n",
       "        vertical-align: top;\n",
       "    }\n",
       "\n",
       "    .dataframe thead th {\n",
       "        text-align: right;\n",
       "    }\n",
       "</style>\n",
       "<table border=\"1\" class=\"dataframe\">\n",
       "  <thead>\n",
       "    <tr style=\"text-align: right;\">\n",
       "      <th></th>\n",
       "      <th>rooms</th>\n",
       "      <th>building_type</th>\n",
       "      <th>rent</th>\n",
       "      <th>built year</th>\n",
       "      <th>size</th>\n",
       "      <th>floors</th>\n",
       "      <th>floor no</th>\n",
       "      <th>for_renovation</th>\n",
       "      <th>for_completion</th>\n",
       "      <th>has_balcony</th>\n",
       "      <th>has_basement</th>\n",
       "      <th>has_garage</th>\n",
       "      <th>has_garden</th>\n",
       "      <th>has_terrace</th>\n",
       "      <th>has_lift</th>\n",
       "      <th>is_two_storey</th>\n",
       "      <th>distance</th>\n",
       "      <th>Arts &amp; Entertainment</th>\n",
       "      <th>College &amp; University</th>\n",
       "      <th>Food</th>\n",
       "      <th>Nightlife Spot</th>\n",
       "      <th>Outdoors &amp; Recreation</th>\n",
       "      <th>Professional &amp; Other Places</th>\n",
       "      <th>Shop &amp; Service</th>\n",
       "      <th>Travel &amp; Transport</th>\n",
       "    </tr>\n",
       "  </thead>\n",
       "  <tbody>\n",
       "    <tr>\n",
       "      <td>0</td>\n",
       "      <td>1</td>\n",
       "      <td>4</td>\n",
       "      <td>291.594142</td>\n",
       "      <td>1978.049782</td>\n",
       "      <td>32.0</td>\n",
       "      <td>0.948291</td>\n",
       "      <td>0.985897</td>\n",
       "      <td>0</td>\n",
       "      <td>0</td>\n",
       "      <td>1.0</td>\n",
       "      <td>0.0</td>\n",
       "      <td>1.0</td>\n",
       "      <td>0.0</td>\n",
       "      <td>0.0</td>\n",
       "      <td>1.0</td>\n",
       "      <td>0.0</td>\n",
       "      <td>2.320595</td>\n",
       "      <td>4</td>\n",
       "      <td>0</td>\n",
       "      <td>20</td>\n",
       "      <td>0</td>\n",
       "      <td>7</td>\n",
       "      <td>0</td>\n",
       "      <td>9</td>\n",
       "      <td>2</td>\n",
       "    </tr>\n",
       "    <tr>\n",
       "      <td>1</td>\n",
       "      <td>4</td>\n",
       "      <td>4</td>\n",
       "      <td>900.000000</td>\n",
       "      <td>2017.000000</td>\n",
       "      <td>90.0</td>\n",
       "      <td>5.000000</td>\n",
       "      <td>5.000000</td>\n",
       "      <td>0</td>\n",
       "      <td>0</td>\n",
       "      <td>1.0</td>\n",
       "      <td>1.0</td>\n",
       "      <td>1.0</td>\n",
       "      <td>0.0</td>\n",
       "      <td>0.0</td>\n",
       "      <td>1.0</td>\n",
       "      <td>0.0</td>\n",
       "      <td>2.075196</td>\n",
       "      <td>4</td>\n",
       "      <td>0</td>\n",
       "      <td>43</td>\n",
       "      <td>2</td>\n",
       "      <td>6</td>\n",
       "      <td>0</td>\n",
       "      <td>10</td>\n",
       "      <td>8</td>\n",
       "    </tr>\n",
       "    <tr>\n",
       "      <td>2</td>\n",
       "      <td>3</td>\n",
       "      <td>3</td>\n",
       "      <td>628.351587</td>\n",
       "      <td>1950.000000</td>\n",
       "      <td>82.9</td>\n",
       "      <td>4.000000</td>\n",
       "      <td>3.000000</td>\n",
       "      <td>0</td>\n",
       "      <td>0</td>\n",
       "      <td>0.0</td>\n",
       "      <td>0.0</td>\n",
       "      <td>0.0</td>\n",
       "      <td>0.0</td>\n",
       "      <td>0.0</td>\n",
       "      <td>0.0</td>\n",
       "      <td>0.0</td>\n",
       "      <td>2.330681</td>\n",
       "      <td>0</td>\n",
       "      <td>0</td>\n",
       "      <td>9</td>\n",
       "      <td>1</td>\n",
       "      <td>5</td>\n",
       "      <td>0</td>\n",
       "      <td>7</td>\n",
       "      <td>6</td>\n",
       "    </tr>\n",
       "    <tr>\n",
       "      <td>3</td>\n",
       "      <td>2</td>\n",
       "      <td>4</td>\n",
       "      <td>350.000000</td>\n",
       "      <td>2015.000000</td>\n",
       "      <td>50.6</td>\n",
       "      <td>6.000000</td>\n",
       "      <td>2.000000</td>\n",
       "      <td>0</td>\n",
       "      <td>0</td>\n",
       "      <td>1.0</td>\n",
       "      <td>0.0</td>\n",
       "      <td>1.0</td>\n",
       "      <td>0.0</td>\n",
       "      <td>0.0</td>\n",
       "      <td>1.0</td>\n",
       "      <td>0.0</td>\n",
       "      <td>4.974050</td>\n",
       "      <td>0</td>\n",
       "      <td>0</td>\n",
       "      <td>5</td>\n",
       "      <td>0</td>\n",
       "      <td>4</td>\n",
       "      <td>0</td>\n",
       "      <td>9</td>\n",
       "      <td>9</td>\n",
       "    </tr>\n",
       "    <tr>\n",
       "      <td>4</td>\n",
       "      <td>2</td>\n",
       "      <td>4</td>\n",
       "      <td>408.698401</td>\n",
       "      <td>1978.049782</td>\n",
       "      <td>49.7</td>\n",
       "      <td>0.948291</td>\n",
       "      <td>3.000000</td>\n",
       "      <td>0</td>\n",
       "      <td>0</td>\n",
       "      <td>1.0</td>\n",
       "      <td>1.0</td>\n",
       "      <td>0.0</td>\n",
       "      <td>0.0</td>\n",
       "      <td>0.0</td>\n",
       "      <td>0.0</td>\n",
       "      <td>0.0</td>\n",
       "      <td>4.343205</td>\n",
       "      <td>4</td>\n",
       "      <td>0</td>\n",
       "      <td>17</td>\n",
       "      <td>0</td>\n",
       "      <td>2</td>\n",
       "      <td>0</td>\n",
       "      <td>22</td>\n",
       "      <td>10</td>\n",
       "    </tr>\n",
       "  </tbody>\n",
       "</table>\n",
       "</div>"
      ],
      "text/plain": [
       "   rooms  building_type        rent   built year  size    floors  floor no  \\\n",
       "0      1              4  291.594142  1978.049782  32.0  0.948291  0.985897   \n",
       "1      4              4  900.000000  2017.000000  90.0  5.000000  5.000000   \n",
       "2      3              3  628.351587  1950.000000  82.9  4.000000  3.000000   \n",
       "3      2              4  350.000000  2015.000000  50.6  6.000000  2.000000   \n",
       "4      2              4  408.698401  1978.049782  49.7  0.948291  3.000000   \n",
       "\n",
       "   for_renovation  for_completion  has_balcony  has_basement  has_garage  \\\n",
       "0               0               0          1.0           0.0         1.0   \n",
       "1               0               0          1.0           1.0         1.0   \n",
       "2               0               0          0.0           0.0         0.0   \n",
       "3               0               0          1.0           0.0         1.0   \n",
       "4               0               0          1.0           1.0         0.0   \n",
       "\n",
       "   has_garden  has_terrace  has_lift  is_two_storey  distance  \\\n",
       "0         0.0          0.0       1.0            0.0  2.320595   \n",
       "1         0.0          0.0       1.0            0.0  2.075196   \n",
       "2         0.0          0.0       0.0            0.0  2.330681   \n",
       "3         0.0          0.0       1.0            0.0  4.974050   \n",
       "4         0.0          0.0       0.0            0.0  4.343205   \n",
       "\n",
       "   Arts & Entertainment  College & University  Food  Nightlife Spot  \\\n",
       "0                     4                     0    20               0   \n",
       "1                     4                     0    43               2   \n",
       "2                     0                     0     9               1   \n",
       "3                     0                     0     5               0   \n",
       "4                     4                     0    17               0   \n",
       "\n",
       "   Outdoors & Recreation  Professional & Other Places  Shop & Service  \\\n",
       "0                      7                            0               9   \n",
       "1                      6                            0              10   \n",
       "2                      5                            0               7   \n",
       "3                      4                            0               9   \n",
       "4                      2                            0              22   \n",
       "\n",
       "   Travel & Transport  \n",
       "0                   2  \n",
       "1                   8  \n",
       "2                   6  \n",
       "3                   9  \n",
       "4                  10  "
      ]
     },
     "execution_count": 105,
     "metadata": {},
     "output_type": "execute_result"
    }
   ],
   "source": [
    "df[use_columns].head()"
   ]
  },
  {
   "cell_type": "code",
   "execution_count": 114,
   "metadata": {},
   "outputs": [
    {
     "data": {
      "text/plain": [
       "rooms                          0\n",
       "building_type                  0\n",
       "rent                           0\n",
       "built year                     0\n",
       "size                           0\n",
       "floors                         0\n",
       "floor no                       0\n",
       "for_renovation                 0\n",
       "for_completion                 0\n",
       "has_balcony                    7\n",
       "has_basement                   7\n",
       "has_garage                     7\n",
       "has_garden                     7\n",
       "has_terrace                    7\n",
       "has_lift                       7\n",
       "is_two_storey                  7\n",
       "distance                       0\n",
       "Arts & Entertainment           0\n",
       "College & University           0\n",
       "Food                           0\n",
       "Nightlife Spot                 0\n",
       "Outdoors & Recreation          0\n",
       "Professional & Other Places    0\n",
       "Shop & Service                 0\n",
       "Travel & Transport             0\n",
       "dtype: int64"
      ]
     },
     "execution_count": 114,
     "metadata": {},
     "output_type": "execute_result"
    }
   ],
   "source": [
    "df[use_columns].isnull().sum()"
   ]
  },
  {
   "cell_type": "code",
   "execution_count": 116,
   "metadata": {},
   "outputs": [],
   "source": [
    "#replace missing data with 0 - in case if there were no venues at all\n",
    "df.fillna(0, inplace=True)"
   ]
  },
  {
   "cell_type": "code",
   "execution_count": 117,
   "metadata": {},
   "outputs": [
    {
     "data": {
      "text/html": [
       "<div>\n",
       "<style scoped>\n",
       "    .dataframe tbody tr th:only-of-type {\n",
       "        vertical-align: middle;\n",
       "    }\n",
       "\n",
       "    .dataframe tbody tr th {\n",
       "        vertical-align: top;\n",
       "    }\n",
       "\n",
       "    .dataframe thead th {\n",
       "        text-align: right;\n",
       "    }\n",
       "</style>\n",
       "<table border=\"1\" class=\"dataframe\">\n",
       "  <thead>\n",
       "    <tr style=\"text-align: right;\">\n",
       "      <th></th>\n",
       "      <th>rooms</th>\n",
       "      <th>building_type</th>\n",
       "      <th>rent</th>\n",
       "      <th>built year</th>\n",
       "      <th>size</th>\n",
       "      <th>floors</th>\n",
       "      <th>floor no</th>\n",
       "      <th>for_renovation</th>\n",
       "      <th>for_completion</th>\n",
       "      <th>has_balcony</th>\n",
       "      <th>has_basement</th>\n",
       "      <th>has_garage</th>\n",
       "      <th>has_garden</th>\n",
       "      <th>has_terrace</th>\n",
       "      <th>has_lift</th>\n",
       "      <th>is_two_storey</th>\n",
       "      <th>distance</th>\n",
       "      <th>Arts &amp; Entertainment</th>\n",
       "      <th>College &amp; University</th>\n",
       "      <th>Food</th>\n",
       "      <th>Nightlife Spot</th>\n",
       "      <th>Outdoors &amp; Recreation</th>\n",
       "      <th>Professional &amp; Other Places</th>\n",
       "      <th>Shop &amp; Service</th>\n",
       "      <th>Travel &amp; Transport</th>\n",
       "    </tr>\n",
       "  </thead>\n",
       "  <tbody>\n",
       "    <tr>\n",
       "      <td>count</td>\n",
       "      <td>2054.000000</td>\n",
       "      <td>2054.000000</td>\n",
       "      <td>2054.000000</td>\n",
       "      <td>2054.000000</td>\n",
       "      <td>2054.000000</td>\n",
       "      <td>2054.000000</td>\n",
       "      <td>2054.000000</td>\n",
       "      <td>2054.000000</td>\n",
       "      <td>2054.000000</td>\n",
       "      <td>2054.000000</td>\n",
       "      <td>2054.000000</td>\n",
       "      <td>2054.000000</td>\n",
       "      <td>2054.000000</td>\n",
       "      <td>2054.000000</td>\n",
       "      <td>2054.000000</td>\n",
       "      <td>2054.000000</td>\n",
       "      <td>2054.000000</td>\n",
       "      <td>2054.000000</td>\n",
       "      <td>2054.000000</td>\n",
       "      <td>2054.000000</td>\n",
       "      <td>2054.000000</td>\n",
       "      <td>2054.000000</td>\n",
       "      <td>2054.000000</td>\n",
       "      <td>2054.000000</td>\n",
       "      <td>2054.000000</td>\n",
       "    </tr>\n",
       "    <tr>\n",
       "      <td>mean</td>\n",
       "      <td>2.570107</td>\n",
       "      <td>3.445959</td>\n",
       "      <td>477.401615</td>\n",
       "      <td>1977.774906</td>\n",
       "      <td>59.888393</td>\n",
       "      <td>4.937524</td>\n",
       "      <td>2.184305</td>\n",
       "      <td>0.067673</td>\n",
       "      <td>0.079357</td>\n",
       "      <td>0.461052</td>\n",
       "      <td>0.399221</td>\n",
       "      <td>0.239046</td>\n",
       "      <td>0.059883</td>\n",
       "      <td>0.072055</td>\n",
       "      <td>0.393866</td>\n",
       "      <td>0.018014</td>\n",
       "      <td>3.227986</td>\n",
       "      <td>2.014119</td>\n",
       "      <td>0.035054</td>\n",
       "      <td>17.554528</td>\n",
       "      <td>2.630964</td>\n",
       "      <td>3.364654</td>\n",
       "      <td>0.219085</td>\n",
       "      <td>7.310613</td>\n",
       "      <td>6.282376</td>\n",
       "    </tr>\n",
       "    <tr>\n",
       "      <td>std</td>\n",
       "      <td>1.065192</td>\n",
       "      <td>0.835029</td>\n",
       "      <td>287.183519</td>\n",
       "      <td>34.380925</td>\n",
       "      <td>32.658786</td>\n",
       "      <td>3.400085</td>\n",
       "      <td>1.931374</td>\n",
       "      <td>0.251245</td>\n",
       "      <td>0.270362</td>\n",
       "      <td>0.498602</td>\n",
       "      <td>0.489858</td>\n",
       "      <td>0.426605</td>\n",
       "      <td>0.237328</td>\n",
       "      <td>0.258641</td>\n",
       "      <td>0.488725</td>\n",
       "      <td>0.133033</td>\n",
       "      <td>1.637174</td>\n",
       "      <td>2.575749</td>\n",
       "      <td>0.204046</td>\n",
       "      <td>19.267434</td>\n",
       "      <td>4.926457</td>\n",
       "      <td>2.105345</td>\n",
       "      <td>0.574423</td>\n",
       "      <td>4.915250</td>\n",
       "      <td>3.257441</td>\n",
       "    </tr>\n",
       "    <tr>\n",
       "      <td>min</td>\n",
       "      <td>1.000000</td>\n",
       "      <td>0.000000</td>\n",
       "      <td>1.000000</td>\n",
       "      <td>1880.000000</td>\n",
       "      <td>19.000000</td>\n",
       "      <td>0.948291</td>\n",
       "      <td>-1.000000</td>\n",
       "      <td>0.000000</td>\n",
       "      <td>0.000000</td>\n",
       "      <td>0.000000</td>\n",
       "      <td>0.000000</td>\n",
       "      <td>0.000000</td>\n",
       "      <td>0.000000</td>\n",
       "      <td>0.000000</td>\n",
       "      <td>0.000000</td>\n",
       "      <td>0.000000</td>\n",
       "      <td>0.000000</td>\n",
       "      <td>0.000000</td>\n",
       "      <td>0.000000</td>\n",
       "      <td>0.000000</td>\n",
       "      <td>0.000000</td>\n",
       "      <td>0.000000</td>\n",
       "      <td>0.000000</td>\n",
       "      <td>0.000000</td>\n",
       "      <td>0.000000</td>\n",
       "    </tr>\n",
       "    <tr>\n",
       "      <td>25%</td>\n",
       "      <td>2.000000</td>\n",
       "      <td>3.000000</td>\n",
       "      <td>350.000000</td>\n",
       "      <td>1976.000000</td>\n",
       "      <td>43.000000</td>\n",
       "      <td>3.000000</td>\n",
       "      <td>1.000000</td>\n",
       "      <td>0.000000</td>\n",
       "      <td>0.000000</td>\n",
       "      <td>0.000000</td>\n",
       "      <td>0.000000</td>\n",
       "      <td>0.000000</td>\n",
       "      <td>0.000000</td>\n",
       "      <td>0.000000</td>\n",
       "      <td>0.000000</td>\n",
       "      <td>0.000000</td>\n",
       "      <td>2.330681</td>\n",
       "      <td>0.000000</td>\n",
       "      <td>0.000000</td>\n",
       "      <td>3.000000</td>\n",
       "      <td>0.000000</td>\n",
       "      <td>2.000000</td>\n",
       "      <td>0.000000</td>\n",
       "      <td>4.000000</td>\n",
       "      <td>4.000000</td>\n",
       "    </tr>\n",
       "    <tr>\n",
       "      <td>50%</td>\n",
       "      <td>2.000000</td>\n",
       "      <td>4.000000</td>\n",
       "      <td>440.000000</td>\n",
       "      <td>1978.049782</td>\n",
       "      <td>52.830000</td>\n",
       "      <td>4.000000</td>\n",
       "      <td>2.000000</td>\n",
       "      <td>0.000000</td>\n",
       "      <td>0.000000</td>\n",
       "      <td>0.000000</td>\n",
       "      <td>0.000000</td>\n",
       "      <td>0.000000</td>\n",
       "      <td>0.000000</td>\n",
       "      <td>0.000000</td>\n",
       "      <td>0.000000</td>\n",
       "      <td>0.000000</td>\n",
       "      <td>3.053105</td>\n",
       "      <td>1.000000</td>\n",
       "      <td>0.000000</td>\n",
       "      <td>9.000000</td>\n",
       "      <td>0.000000</td>\n",
       "      <td>3.000000</td>\n",
       "      <td>0.000000</td>\n",
       "      <td>6.000000</td>\n",
       "      <td>6.000000</td>\n",
       "    </tr>\n",
       "    <tr>\n",
       "      <td>75%</td>\n",
       "      <td>3.000000</td>\n",
       "      <td>4.000000</td>\n",
       "      <td>550.000000</td>\n",
       "      <td>2008.000000</td>\n",
       "      <td>66.875000</td>\n",
       "      <td>5.000000</td>\n",
       "      <td>3.000000</td>\n",
       "      <td>0.000000</td>\n",
       "      <td>0.000000</td>\n",
       "      <td>1.000000</td>\n",
       "      <td>1.000000</td>\n",
       "      <td>0.000000</td>\n",
       "      <td>0.000000</td>\n",
       "      <td>0.000000</td>\n",
       "      <td>1.000000</td>\n",
       "      <td>0.000000</td>\n",
       "      <td>4.343205</td>\n",
       "      <td>3.000000</td>\n",
       "      <td>0.000000</td>\n",
       "      <td>26.000000</td>\n",
       "      <td>3.000000</td>\n",
       "      <td>5.000000</td>\n",
       "      <td>0.000000</td>\n",
       "      <td>9.000000</td>\n",
       "      <td>9.000000</td>\n",
       "    </tr>\n",
       "    <tr>\n",
       "      <td>max</td>\n",
       "      <td>10.000000</td>\n",
       "      <td>4.000000</td>\n",
       "      <td>6522.000000</td>\n",
       "      <td>2023.000000</td>\n",
       "      <td>583.730000</td>\n",
       "      <td>61.000000</td>\n",
       "      <td>9.000000</td>\n",
       "      <td>1.000000</td>\n",
       "      <td>1.000000</td>\n",
       "      <td>1.000000</td>\n",
       "      <td>1.000000</td>\n",
       "      <td>1.000000</td>\n",
       "      <td>1.000000</td>\n",
       "      <td>1.000000</td>\n",
       "      <td>1.000000</td>\n",
       "      <td>1.000000</td>\n",
       "      <td>8.977678</td>\n",
       "      <td>11.000000</td>\n",
       "      <td>2.000000</td>\n",
       "      <td>67.000000</td>\n",
       "      <td>20.000000</td>\n",
       "      <td>16.000000</td>\n",
       "      <td>3.000000</td>\n",
       "      <td>24.000000</td>\n",
       "      <td>17.000000</td>\n",
       "    </tr>\n",
       "  </tbody>\n",
       "</table>\n",
       "</div>"
      ],
      "text/plain": [
       "             rooms  building_type         rent   built year         size  \\\n",
       "count  2054.000000    2054.000000  2054.000000  2054.000000  2054.000000   \n",
       "mean      2.570107       3.445959   477.401615  1977.774906    59.888393   \n",
       "std       1.065192       0.835029   287.183519    34.380925    32.658786   \n",
       "min       1.000000       0.000000     1.000000  1880.000000    19.000000   \n",
       "25%       2.000000       3.000000   350.000000  1976.000000    43.000000   \n",
       "50%       2.000000       4.000000   440.000000  1978.049782    52.830000   \n",
       "75%       3.000000       4.000000   550.000000  2008.000000    66.875000   \n",
       "max      10.000000       4.000000  6522.000000  2023.000000   583.730000   \n",
       "\n",
       "            floors     floor no  for_renovation  for_completion  has_balcony  \\\n",
       "count  2054.000000  2054.000000     2054.000000     2054.000000  2054.000000   \n",
       "mean      4.937524     2.184305        0.067673        0.079357     0.461052   \n",
       "std       3.400085     1.931374        0.251245        0.270362     0.498602   \n",
       "min       0.948291    -1.000000        0.000000        0.000000     0.000000   \n",
       "25%       3.000000     1.000000        0.000000        0.000000     0.000000   \n",
       "50%       4.000000     2.000000        0.000000        0.000000     0.000000   \n",
       "75%       5.000000     3.000000        0.000000        0.000000     1.000000   \n",
       "max      61.000000     9.000000        1.000000        1.000000     1.000000   \n",
       "\n",
       "       has_basement   has_garage   has_garden  has_terrace     has_lift  \\\n",
       "count   2054.000000  2054.000000  2054.000000  2054.000000  2054.000000   \n",
       "mean       0.399221     0.239046     0.059883     0.072055     0.393866   \n",
       "std        0.489858     0.426605     0.237328     0.258641     0.488725   \n",
       "min        0.000000     0.000000     0.000000     0.000000     0.000000   \n",
       "25%        0.000000     0.000000     0.000000     0.000000     0.000000   \n",
       "50%        0.000000     0.000000     0.000000     0.000000     0.000000   \n",
       "75%        1.000000     0.000000     0.000000     0.000000     1.000000   \n",
       "max        1.000000     1.000000     1.000000     1.000000     1.000000   \n",
       "\n",
       "       is_two_storey     distance  Arts & Entertainment  College & University  \\\n",
       "count    2054.000000  2054.000000           2054.000000           2054.000000   \n",
       "mean        0.018014     3.227986              2.014119              0.035054   \n",
       "std         0.133033     1.637174              2.575749              0.204046   \n",
       "min         0.000000     0.000000              0.000000              0.000000   \n",
       "25%         0.000000     2.330681              0.000000              0.000000   \n",
       "50%         0.000000     3.053105              1.000000              0.000000   \n",
       "75%         0.000000     4.343205              3.000000              0.000000   \n",
       "max         1.000000     8.977678             11.000000              2.000000   \n",
       "\n",
       "              Food  Nightlife Spot  Outdoors & Recreation  \\\n",
       "count  2054.000000     2054.000000            2054.000000   \n",
       "mean     17.554528        2.630964               3.364654   \n",
       "std      19.267434        4.926457               2.105345   \n",
       "min       0.000000        0.000000               0.000000   \n",
       "25%       3.000000        0.000000               2.000000   \n",
       "50%       9.000000        0.000000               3.000000   \n",
       "75%      26.000000        3.000000               5.000000   \n",
       "max      67.000000       20.000000              16.000000   \n",
       "\n",
       "       Professional & Other Places  Shop & Service  Travel & Transport  \n",
       "count                  2054.000000     2054.000000         2054.000000  \n",
       "mean                      0.219085        7.310613            6.282376  \n",
       "std                       0.574423        4.915250            3.257441  \n",
       "min                       0.000000        0.000000            0.000000  \n",
       "25%                       0.000000        4.000000            4.000000  \n",
       "50%                       0.000000        6.000000            6.000000  \n",
       "75%                       0.000000        9.000000            9.000000  \n",
       "max                       3.000000       24.000000           17.000000  "
      ]
     },
     "execution_count": 117,
     "metadata": {},
     "output_type": "execute_result"
    }
   ],
   "source": [
    "include =['object', 'float', 'int'] \n",
    "df[use_columns].describe(include = include)"
   ]
  },
  {
   "cell_type": "markdown",
   "metadata": {},
   "source": [
    "## Predicting price of apparment - Using regression models"
   ]
  },
  {
   "cell_type": "markdown",
   "metadata": {},
   "source": [
    "# Methodology \n",
    "section which represents the main component of the report where you discuss and describe any exploratory data analysis that you did, any inferential statistical testing that you performed, if any, and what machine learnings were used and why."
   ]
  },
  {
   "cell_type": "markdown",
   "metadata": {},
   "source": [
    "I'm going to use different types of regression models to predict prices of appartments based on data gathered in previous sections. I'll validate how well are they predicticg prices by using R2 score. \\\n",
    "To do this I'll split the data into:\n",
    "- test and train sets - used to fine tune each model before validation\n",
    "- validation set - used to compare models\n",
    "\n",
    "Finally I'll use whole data set to predict apartment values with the best model and use difference between predicted value and appartment value as a filter for potentially good deals."
   ]
  },
  {
   "cell_type": "markdown",
   "metadata": {},
   "source": [
    "### Selecting X, y"
   ]
  },
  {
   "cell_type": "code",
   "execution_count": 125,
   "metadata": {},
   "outputs": [],
   "source": [
    "X = df[['rooms', 'building_type', 'rent', 'built year', 'size',\n",
    "       'floors', 'floor no', 'for_renovation', 'for_completion', 'has_balcony',\n",
    "       'has_basement', 'has_garage', 'has_garden', 'has_terrace', 'has_lift',\n",
    "       'is_two_storey', 'distance',\n",
    "       'Arts & Entertainment', 'College & University', 'Food',\n",
    "       'Nightlife Spot', 'Outdoors & Recreation',\n",
    "       'Professional & Other Places', 'Shop & Service', 'Travel & Transport']]\n",
    "y = df['price per m'].values"
   ]
  },
  {
   "cell_type": "markdown",
   "metadata": {},
   "source": [
    "### Normalize data"
   ]
  },
  {
   "cell_type": "code",
   "execution_count": 126,
   "metadata": {},
   "outputs": [],
   "source": [
    "from sklearn import preprocessing\n",
    "X= preprocessing.StandardScaler().fit(X).transform(X)"
   ]
  },
  {
   "cell_type": "markdown",
   "metadata": {},
   "source": [
    "### Split data into train test and validation data (to compare models)"
   ]
  },
  {
   "cell_type": "code",
   "execution_count": 127,
   "metadata": {},
   "outputs": [],
   "source": [
    "from sklearn.model_selection import train_test_split\n",
    "X_model, X_validate, y_model, y_validate = train_test_split( X, y, test_size=0.2, random_state=30)\n",
    "X_train, X_test, y_train, y_test = train_test_split( X_model, y_model, test_size=0.2, random_state=30)"
   ]
  },
  {
   "cell_type": "markdown",
   "metadata": {},
   "source": [
    "### K Nearest Neighbor(KNN)"
   ]
  },
  {
   "cell_type": "code",
   "execution_count": 128,
   "metadata": {},
   "outputs": [],
   "source": [
    "from sklearn.neighbors import KNeighborsRegressor\n",
    "Ks = 15\n",
    "R2_score = np.zeros((Ks-1))\n",
    "ConfustionMx = [];\n",
    "for n in range(1,Ks):\n",
    "    #Train Model and Predict  \n",
    "    neigh = KNeighborsRegressor(n_neighbors = n).fit(X_train,y_train)\n",
    "    yhat=neigh.predict(X_test)\n",
    "    R2_score[n-1] = neigh.score(X_test, y_test)"
   ]
  },
  {
   "cell_type": "code",
   "execution_count": 132,
   "metadata": {},
   "outputs": [
    {
     "data": {
      "image/png": "[encoded data removed]",
      "text/plain": [
       "<Figure size 432x288 with 1 Axes>"
      ]
     },
     "metadata": {
      "needs_background": "light"
     },
     "output_type": "display_data"
    }
   ],
   "source": [
    "import matplotlib.pyplot as plt\n",
    "plt.plot(range(1,Ks),R2_score,'g')\n",
    "plt.legend(('Accuracy ', '+/- 3xstd'))\n",
    "plt.ylabel('Accuracy ')\n",
    "plt.xlabel('Number of Nabors (K)')\n",
    "plt.tight_layout()\n",
    "plt.show()"
   ]
  },
  {
   "cell_type": "markdown",
   "metadata": {},
   "source": [
    "With k = 8 we are getting best results for KNeighbors."
   ]
  },
  {
   "cell_type": "code",
   "execution_count": 186,
   "metadata": {},
   "outputs": [],
   "source": [
    "knn = KNeighborsRegressor(n_neighbors = 8).fit(X_model,y_model)"
   ]
  },
  {
   "cell_type": "markdown",
   "metadata": {},
   "source": [
    "## Decision Tree"
   ]
  },
  {
   "cell_type": "code",
   "execution_count": 187,
   "metadata": {},
   "outputs": [],
   "source": [
    "from sklearn.tree import DecisionTreeRegressor \n",
    "maxDs = 10\n",
    "R2_score = np.zeros((maxDs-1))\n",
    "ConfustionMx = [];\n",
    "for n in range(1,maxDs):\n",
    "    #Train Model and Predict\n",
    "    decisionTree = DecisionTreeRegressor(max_depth = n)\n",
    "    decisionTree.fit(X_train,y_train)\n",
    "    predTree = decisionTree.predict(X_test)\n",
    "    R2_score[n-1] = decisionTree.score(X_test, y_test)"
   ]
  },
  {
   "cell_type": "code",
   "execution_count": 188,
   "metadata": {},
   "outputs": [
    {
     "data": {
      "image/png": "[encoded data removed]",
      "text/plain": [
       "<Figure size 432x288 with 1 Axes>"
      ]
     },
     "metadata": {
      "needs_background": "light"
     },
     "output_type": "display_data"
    }
   ],
   "source": [
    "plt.plot(range(1,maxDs),R2_score,'g')\n",
    "plt.legend(('Accuracy ', '+/- 3xstd'))\n",
    "plt.ylabel('Accuracy ')\n",
    "plt.xlabel('Max depth')\n",
    "plt.tight_layout()\n",
    "plt.show()"
   ]
  },
  {
   "cell_type": "markdown",
   "metadata": {},
   "source": [
    "With max_depth = 5 we are getting best results for Decision Tree model, as with further increase of depth accuracy improves just a little."
   ]
  },
  {
   "cell_type": "code",
   "execution_count": 189,
   "metadata": {},
   "outputs": [
    {
     "data": {
      "text/plain": [
       "DecisionTreeRegressor(criterion='mse', max_depth=5, max_features=None,\n",
       "                      max_leaf_nodes=None, min_impurity_decrease=0.0,\n",
       "                      min_impurity_split=None, min_samples_leaf=1,\n",
       "                      min_samples_split=2, min_weight_fraction_leaf=0.0,\n",
       "                      presort=False, random_state=None, splitter='best')"
      ]
     },
     "execution_count": 189,
     "metadata": {},
     "output_type": "execute_result"
    }
   ],
   "source": [
    "decisionTree = DecisionTreeRegressor(max_depth = 5)\n",
    "decisionTree.fit(X_model,y_model)"
   ]
  },
  {
   "cell_type": "markdown",
   "metadata": {},
   "source": [
    "### Support Vector Machine"
   ]
  },
  {
   "cell_type": "code",
   "execution_count": 190,
   "metadata": {},
   "outputs": [
    {
     "data": {
      "image/png": "[encoded data removed]",
      "text/plain": [
       "<Figure size 432x288 with 1 Axes>"
      ]
     },
     "metadata": {
      "needs_background": "light"
     },
     "output_type": "display_data"
    }
   ],
   "source": [
    "from sklearn import svm\n",
    "kernels = ['linear', 'poly', 'rbf', 'sigmoid']\n",
    "compare_svm = {\"Kernel\":[], \"R2 score\":[]}\n",
    "for kernel in kernels:\n",
    "    svm_model = svm.SVR(kernel=kernel, gamma='auto')\n",
    "    svm_model.fit(X_train, y_train) \n",
    "    R2_score = svm_model.score(X_test, y_test)\n",
    "    compare_svm[\"Kernel\"].append(kernel)\n",
    "    compare_svm[\"R2 score\"].append(R2_score)\n",
    "compare_svm_df = pd.DataFrame(compare_svm)\n",
    "ax = sns.barplot(x=\"Kernel\", y='R2 score', data=compare_svm_df)"
   ]
  },
  {
   "cell_type": "code",
   "execution_count": 191,
   "metadata": {},
   "outputs": [
    {
     "data": {
      "text/plain": [
       "SVR(C=1.0, cache_size=200, coef0=0.0, degree=3, epsilon=0.1, gamma='auto',\n",
       "    kernel='linear', max_iter=-1, shrinking=True, tol=0.001, verbose=False)"
      ]
     },
     "execution_count": 191,
     "metadata": {},
     "output_type": "execute_result"
    }
   ],
   "source": [
    "svm_model = svm.SVR(kernel='linear', gamma='auto')\n",
    "svm_model.fit(X_model, y_model)"
   ]
  },
  {
   "cell_type": "markdown",
   "metadata": {},
   "source": [
    "### Linear regression"
   ]
  },
  {
   "cell_type": "code",
   "execution_count": 192,
   "metadata": {},
   "outputs": [
    {
     "name": "stdout",
     "output_type": "stream",
     "text": [
      "R2 score for linear regression is 0.27492013067143806\n"
     ]
    }
   ],
   "source": [
    "from sklearn.linear_model import LinearRegression\n",
    "reg = LinearRegression().fit(X_train, y_train)\n",
    "R2_score = reg.score(X_test, y_test)\n",
    "print(\"R2 score for linear regression is {}\".format(R2_score))"
   ]
  },
  {
   "cell_type": "code",
   "execution_count": 193,
   "metadata": {},
   "outputs": [
    {
     "data": {
      "text/plain": [
       "array([-338.65913014, -387.69399476,  471.99775009,  429.57369311,\n",
       "       -592.80208721,  -71.63662005,   10.52795366, -285.63995549,\n",
       "         17.34330634,   51.64681334,   -5.67764413,   12.24165777,\n",
       "        -44.19204164,  -32.76378829,   46.08989435,   72.88991404,\n",
       "        -96.02315624,  195.07838748,   92.969216  ,  -25.8356072 ,\n",
       "        361.63461376,  154.35964385, -307.20482332, -184.86984744,\n",
       "         85.01072833])"
      ]
     },
     "execution_count": 193,
     "metadata": {},
     "output_type": "execute_result"
    }
   ],
   "source": [
    "lin_reg = LinearRegression().fit(X_model, y_model)\n",
    "lin_reg.coef_"
   ]
  },
  {
   "cell_type": "markdown",
   "metadata": {},
   "source": [
    "### Validate each model"
   ]
  },
  {
   "cell_type": "code",
   "execution_count": 194,
   "metadata": {},
   "outputs": [],
   "source": [
    "models_validation = {\"Model\":[], \"R2 score\":[]}"
   ]
  },
  {
   "cell_type": "code",
   "execution_count": 195,
   "metadata": {},
   "outputs": [],
   "source": [
    "models_validation[\"Model\"].append(\"KNN\")\n",
    "models_validation[\"R2 score\"].append(knn.score(X_validate,y_validate))\n"
   ]
  },
  {
   "cell_type": "code",
   "execution_count": 196,
   "metadata": {},
   "outputs": [],
   "source": [
    "models_validation[\"Model\"].append(\"Decision Tree\")\n",
    "models_validation[\"R2 score\"].append(decisionTree.score(X_validate,y_validate))"
   ]
  },
  {
   "cell_type": "code",
   "execution_count": 197,
   "metadata": {},
   "outputs": [],
   "source": [
    "models_validation[\"Model\"].append(\"SVM\")\n",
    "models_validation[\"R2 score\"].append(svm_model.score(X_validate,y_validate))\n"
   ]
  },
  {
   "cell_type": "code",
   "execution_count": 198,
   "metadata": {},
   "outputs": [],
   "source": [
    "models_validation[\"Model\"].append(\"Linear Reg\")\n",
    "models_validation[\"R2 score\"].append(lin_reg.score(X_validate,y_validate))"
   ]
  },
  {
   "cell_type": "code",
   "execution_count": 199,
   "metadata": {},
   "outputs": [
    {
     "data": {
      "image/png": "[encoded data removed]",
      "text/plain": [
       "<Figure size 432x288 with 1 Axes>"
      ]
     },
     "metadata": {
      "needs_background": "light"
     },
     "output_type": "display_data"
    }
   ],
   "source": [
    "ax = sns.barplot(x=\"Model\", y='R2 score', data=models_validation)"
   ]
  },
  {
   "cell_type": "markdown",
   "metadata": {},
   "source": [
    "## Results section\n",
    "where you discuss the results."
   ]
  },
  {
   "cell_type": "markdown",
   "metadata": {},
   "source": [
    "We can see that R2 score for models were rather low, but is the final result helpfull at all? \\\n",
    "Maybe a simpler alternative could be just to review only the cheapest listings? \\\n",
    "Lets compare a list of Top 200 listings provided by the model with the list of 200 listings with lowest prices."
   ]
  },
  {
   "cell_type": "markdown",
   "metadata": {},
   "source": [
    "## Predicting values of appartments based on Decision Tree"
   ]
  },
  {
   "cell_type": "code",
   "execution_count": 200,
   "metadata": {},
   "outputs": [],
   "source": [
    "y_hat = lin_reg.predict(X)"
   ]
  },
  {
   "cell_type": "markdown",
   "metadata": {},
   "source": [
    "add it to DataFrame"
   ]
  },
  {
   "cell_type": "code",
   "execution_count": 201,
   "metadata": {},
   "outputs": [],
   "source": [
    "df[\"y_hat\"] = y_hat"
   ]
  },
  {
   "cell_type": "markdown",
   "metadata": {},
   "source": [
    "list 10 mostly underpriced appartments based on the model - with greatest % difference between y_hat and the real price."
   ]
  },
  {
   "cell_type": "code",
   "execution_count": 202,
   "metadata": {},
   "outputs": [],
   "source": [
    "df[\"delta\"] = round((df[\"y_hat\"]-df[\"price per m\"])/df[\"price per m\"]*100, 2)"
   ]
  },
  {
   "cell_type": "code",
   "execution_count": 203,
   "metadata": {},
   "outputs": [],
   "source": [
    "result = df.sort_values(by=[\"delta\"], ascending=False).head(20)"
   ]
  },
  {
   "cell_type": "code",
   "execution_count": 204,
   "metadata": {
    "scrolled": true
   },
   "outputs": [
    {
     "name": "stdout",
     "output_type": "stream",
     "text": [
      "Price 3186PLN per m, url https://www.otodom.pl/oferta/udzialy-w-kamienicy-ID465zE.html#d9c7861cb1\n",
      "Price 6384PLN per m, url https://www.otodom.pl/oferta/os-sobieskiego-4-pokoje-przy-pst-i-uam-morasko-ID44KN4.html#7f123fc8b8\n",
      "Price 3186PLN per m, url https://www.otodom.pl/oferta/udzial-w-kamienicy-ID465zW.html#d9c7861cb1\n",
      "Price 3614PLN per m, url https://www.otodom.pl/oferta/3-pokojowe-mieszkanie-blisko-centrum-66m2-roi-6-8-ID43R6X.html#8c74f89272\n",
      "Price 4061PLN per m, url https://www.otodom.pl/oferta/ogrody-polska-blisko-centrum-przestronny-ogrod-ID46bH3.html#c0414dace4\n",
      "Price 4757PLN per m, url https://www.otodom.pl/oferta/mieszkanie-na-inwestycje-w-centrum-poznania-ID4109i.html#bc034ebf07\n",
      "Price 4156PLN per m, url https://www.otodom.pl/oferta/nowe-mieszkanie-na-wildzie-2-z-panorama-miasta-ID42Dws.html#5e6b54dcf2\n",
      "Price 3989PLN per m, url https://www.otodom.pl/oferta/jezyce-3-pokoje-przestronne-ID467cO.html#0dbf6fa631\n",
      "Price 3860PLN per m, url https://www.otodom.pl/oferta/mieszkanie-57-m-poznan-ID44GEs.html#4414f983fe\n",
      "Price 3064PLN per m, url https://www.otodom.pl/oferta/2-mieszkania-ogrod-parking-na-firme-ID463e4.html#2a393aefd8\n"
     ]
    }
   ],
   "source": [
    "for price, url in zip(result[\"price per m\"][:10], result[\"url\"][:10]):\n",
    "    print(\"Price {}PLN per m, url {}\".format(price, url))"
   ]
  },
  {
   "cell_type": "markdown",
   "metadata": {},
   "source": [
    "### compare a list of Top 200 listings provided by the model with the list of 200 listings with lowest prices"
   ]
  },
  {
   "cell_type": "code",
   "execution_count": 238,
   "metadata": {},
   "outputs": [],
   "source": [
    "evaluate_count = 200\n",
    "model_result = df.sort_values(by=[\"delta\"], ascending=False).head(evaluate_count)\n",
    "model_result = model_result.sort_values(by=[\"price per m\"], ascending=True)\n",
    "lowest_prices = df.sort_values(by=[\"price per m\"], ascending=True).head(evaluate_count)"
   ]
  },
  {
   "cell_type": "code",
   "execution_count": 239,
   "metadata": {},
   "outputs": [
    {
     "name": "stdout",
     "output_type": "stream",
     "text": [
      "273\n"
     ]
    }
   ],
   "source": [
    "model_ids = list(model_result[\"id\"].values)\n",
    "lowest_price_ids = list(lowest_prices[\"id\"].values)\n",
    "full_id_list = model_ids + lowest_price_ids\n",
    "full_id_list = list(dict.fromkeys(full_id_list))\n",
    "print(len(full_id_list))"
   ]
  },
  {
   "cell_type": "code",
   "execution_count": 240,
   "metadata": {},
   "outputs": [
    {
     "data": {
      "text/html": [
       "<div>\n",
       "<style scoped>\n",
       "    .dataframe tbody tr th:only-of-type {\n",
       "        vertical-align: middle;\n",
       "    }\n",
       "\n",
       "    .dataframe tbody tr th {\n",
       "        vertical-align: top;\n",
       "    }\n",
       "\n",
       "    .dataframe thead th {\n",
       "        text-align: right;\n",
       "    }\n",
       "</style>\n",
       "<table border=\"1\" class=\"dataframe\">\n",
       "  <thead>\n",
       "    <tr style=\"text-align: right;\">\n",
       "      <th></th>\n",
       "      <th>inModel</th>\n",
       "      <th>inLowestPrice</th>\n",
       "      <th>both</th>\n",
       "    </tr>\n",
       "  </thead>\n",
       "  <tbody>\n",
       "    <tr>\n",
       "      <td>sum</td>\n",
       "      <td>200</td>\n",
       "      <td>200</td>\n",
       "      <td>127</td>\n",
       "    </tr>\n",
       "  </tbody>\n",
       "</table>\n",
       "</div>"
      ],
      "text/plain": [
       "     inModel  inLowestPrice  both\n",
       "sum      200            200   127"
      ]
     },
     "execution_count": 240,
     "metadata": {},
     "output_type": "execute_result"
    }
   ],
   "source": [
    "print_comparison = {\"id\":[], \"inModel\":[], \"inLowestPrice\":[]}\n",
    "\n",
    "for unique_id in full_id_list:\n",
    "    print_comparison[\"id\"].append(unique_id)\n",
    "    print_comparison[\"inModel\"].append(1 if unique_id in model_ids else 0)\n",
    "    print_comparison[\"inLowestPrice\"].append(1 if unique_id in lowest_price_ids else 0)\n",
    "\n",
    "comparison_df = pd.DataFrame(print_comparison)\n",
    "comparison_df['both'] = comparison_df[\"inModel\"]*comparison_df[\"inLowestPrice\"]\n",
    "comparison_df.sort_values(by=[\"inModel\", \"inLowestPrice\"], ascending=False, inplace=True)\n",
    "comparison_df.reset_index(drop=True, inplace=True)\n",
    "comparison_df[[\"inModel\", \"inLowestPrice\", 'both']].agg(['sum'])"
   ]
  },
  {
   "cell_type": "markdown",
   "metadata": {},
   "source": [
    "40% of appartments proposed by the model would not have been suggesed by simply selecting the lowest price."
   ]
  },
  {
   "cell_type": "markdown",
   "metadata": {},
   "source": [
    "### Lets see how did differences in prices look like."
   ]
  },
  {
   "cell_type": "code",
   "execution_count": 241,
   "metadata": {},
   "outputs": [],
   "source": [
    "mean_price_in_the_city = int(df[\"price per m\"].agg(['mean'])[\"mean\"])\n",
    "mean_price_range = [mean_price_in_the_city]*evaluate_count\n",
    "x = range(1,evaluate_count+1)"
   ]
  },
  {
   "cell_type": "code",
   "execution_count": 244,
   "metadata": {},
   "outputs": [
    {
     "data": {
      "image/png": "[encoded data removed]",
      "text/plain": [
       "<Figure size 432x288 with 1 Axes>"
      ]
     },
     "metadata": {
      "needs_background": "light"
     },
     "output_type": "display_data"
    }
   ],
   "source": [
    "plt.plot(x,lowest_prices[\"price per m\"].values,'g')\n",
    "plt.plot(x,model_result[\"price per m\"].values,'b')\n",
    "plt.plot(x, mean_price_range,'y')\n",
    "plt.legend(('Lowest prices', 'Model resutls', 'Average price in the city'))\n",
    "plt.ylabel('Price per m ')\n",
    "plt.tight_layout()\n",
    "plt.show()"
   ]
  },
  {
   "cell_type": "markdown",
   "metadata": {},
   "source": [
    "We can see that model is more liekly to suggest listings with prices closer to average price in the city."
   ]
  },
  {
   "cell_type": "markdown",
   "metadata": {},
   "source": [
    "## Discussion section\n",
    "where you discuss any observations you noted and any recommendations you can make based on the results.\n",
    "\n",
    "Based on the results of the project we can see that there is a lot o infromation impacting the price but missing in the data. Unfortunately I was not able to parse this information because it was either unavailable at all or could be infered from picture or descriptions only.\n",
    "\n",
    "More information could be added like: standart of the apartment, building condition, how well rooms are arranged.\n",
    "Missing data which were replaced during preparation could be filled in.\n",
    "\n",
    "Both of the above woudl have to be done manually but this should improve results of models. \n",
    "\n",
    "In future an ability to add data incrementaly about new listings and venues would be a plus as this project was based only on active listings. My hope is that with more historical data, we could get better predictions. "
   ]
  },
  {
   "cell_type": "markdown",
   "metadata": {},
   "source": [
    "## Conclusion section\n",
    "where you conclude the report."
   ]
  },
  {
   "cell_type": "markdown",
   "metadata": {},
   "source": [
    "Based on Decision Tree Model and Foursquare, geo and real estate data, I was able to identify potential good deals in a price range closer to average price of an apartment in the city. This can be considered as satisfactory result as such infromation is not available when filtering only by lowest price. \n",
    "\n",
    "Consider that the goal of this project was to suggest potential good deals, but making the final decision on purchase consists of more criteria that need to be evaluated."
   ]
  },
  {
   "cell_type": "code",
   "execution_count": null,
   "metadata": {},
   "outputs": [],
   "source": []
  }
 ],
 "metadata": {
  "kernelspec": {
   "display_name": "Python 3",
   "language": "python",
   "name": "python3"
  },
  "language_info": {
   "codemirror_mode": {
    "name": "ipython",
    "version": 3
   },
   "file_extension": ".py",
   "mimetype": "text/x-python",
   "name": "python",
   "nbconvert_exporter": "python",
   "pygments_lexer": "ipython3",
   "version": "3.7.4"
  }
 },
 "nbformat": 4,
 "nbformat_minor": 2
}
